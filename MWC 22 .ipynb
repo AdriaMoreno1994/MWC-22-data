{
 "cells": [
  {
   "cell_type": "code",
   "execution_count": 34,
   "id": "daab2c43",
   "metadata": {},
   "outputs": [],
   "source": [
    "import pandas as pd \n",
    "import numpy as np \n",
    "import matplotlib.pyplot as plt\n",
    "import seaborn as sns\n",
    "from sklearn.model_selection import train_test_split\n",
    "import sklearn.metrics as metrics\n",
    "from sklearn.model_selection import cross_val_score\n",
    "from sklearn.preprocessing import MinMaxScaler,RobustScaler,StandardScaler\n",
    "from sklearn.ensemble import RandomForestClassifier as RFC\n",
    "from sklearn import svm\n",
    "import xgboost as xgb"
   ]
  },
  {
   "cell_type": "code",
   "execution_count": 2,
   "id": "55b309c2",
   "metadata": {},
   "outputs": [],
   "source": [
    "df_clients = pd.read_csv('mwc22-client_table.csv')\n",
    "df_orders = pd.read_csv('mwc22-orders_table.csv')\n"
   ]
  },
  {
   "cell_type": "markdown",
   "id": "c36244db",
   "metadata": {},
   "source": [
    "# Analisis de ventas \n",
    "\n"
   ]
  },
  {
   "cell_type": "markdown",
   "id": "bd6bfef7",
   "metadata": {},
   "source": [
    "## Analisis Exploratorio"
   ]
  },
  {
   "cell_type": "markdown",
   "id": "11c4978c",
   "metadata": {},
   "source": [
    "Primero hacemos una exploracion inicial sobre el dataset, en buscar de registros nulos o alguna otra anomalia"
   ]
  },
  {
   "cell_type": "code",
   "execution_count": 3,
   "id": "38d2823f",
   "metadata": {},
   "outputs": [
    {
     "data": {
      "text/html": [
       "<div>\n",
       "<style scoped>\n",
       "    .dataframe tbody tr th:only-of-type {\n",
       "        vertical-align: middle;\n",
       "    }\n",
       "\n",
       "    .dataframe tbody tr th {\n",
       "        vertical-align: top;\n",
       "    }\n",
       "\n",
       "    .dataframe thead th {\n",
       "        text-align: right;\n",
       "    }\n",
       "</style>\n",
       "<table border=\"1\" class=\"dataframe\">\n",
       "  <thead>\n",
       "    <tr style=\"text-align: right;\">\n",
       "      <th></th>\n",
       "      <th>CLIENT ID</th>\n",
       "      <th>CLIENT_SEGMENT</th>\n",
       "      <th>AVG CONSO</th>\n",
       "      <th>AVG BASKET SIZE</th>\n",
       "      <th>RECEIVED_COMMUNICATION</th>\n",
       "    </tr>\n",
       "  </thead>\n",
       "  <tbody>\n",
       "    <tr>\n",
       "      <th>0</th>\n",
       "      <td>24321771</td>\n",
       "      <td>6</td>\n",
       "      <td>67,25</td>\n",
       "      <td>201,75</td>\n",
       "      <td>0</td>\n",
       "    </tr>\n",
       "    <tr>\n",
       "      <th>1</th>\n",
       "      <td>24321859</td>\n",
       "      <td>2</td>\n",
       "      <td>58,33</td>\n",
       "      <td>350</td>\n",
       "      <td>0</td>\n",
       "    </tr>\n",
       "    <tr>\n",
       "      <th>2</th>\n",
       "      <td>24321880</td>\n",
       "      <td>3</td>\n",
       "      <td>46,67</td>\n",
       "      <td>112</td>\n",
       "      <td>0</td>\n",
       "    </tr>\n",
       "    <tr>\n",
       "      <th>3</th>\n",
       "      <td>24321957</td>\n",
       "      <td>2</td>\n",
       "      <td>50</td>\n",
       "      <td>600</td>\n",
       "      <td>0</td>\n",
       "    </tr>\n",
       "    <tr>\n",
       "      <th>4</th>\n",
       "      <td>24321962</td>\n",
       "      <td>4</td>\n",
       "      <td>10</td>\n",
       "      <td>120</td>\n",
       "      <td>0</td>\n",
       "    </tr>\n",
       "  </tbody>\n",
       "</table>\n",
       "</div>"
      ],
      "text/plain": [
       "   CLIENT ID  CLIENT_SEGMENT AVG CONSO AVG BASKET SIZE  RECEIVED_COMMUNICATION\n",
       "0   24321771               6     67,25          201,75                       0\n",
       "1   24321859               2     58,33             350                       0\n",
       "2   24321880               3     46,67             112                       0\n",
       "3   24321957               2        50             600                       0\n",
       "4   24321962               4        10             120                       0"
      ]
     },
     "execution_count": 3,
     "metadata": {},
     "output_type": "execute_result"
    }
   ],
   "source": [
    "df_clients.head()"
   ]
  },
  {
   "cell_type": "code",
   "execution_count": 4,
   "id": "236b43f5",
   "metadata": {},
   "outputs": [
    {
     "data": {
      "text/html": [
       "<div>\n",
       "<style scoped>\n",
       "    .dataframe tbody tr th:only-of-type {\n",
       "        vertical-align: middle;\n",
       "    }\n",
       "\n",
       "    .dataframe tbody tr th {\n",
       "        vertical-align: top;\n",
       "    }\n",
       "\n",
       "    .dataframe thead th {\n",
       "        text-align: right;\n",
       "    }\n",
       "</style>\n",
       "<table border=\"1\" class=\"dataframe\">\n",
       "  <thead>\n",
       "    <tr style=\"text-align: right;\">\n",
       "      <th></th>\n",
       "      <th>CLIENT ID</th>\n",
       "      <th>CLIENT_SEGMENT</th>\n",
       "      <th>RECEIVED_COMMUNICATION</th>\n",
       "    </tr>\n",
       "  </thead>\n",
       "  <tbody>\n",
       "    <tr>\n",
       "      <th>count</th>\n",
       "      <td>3.588400e+04</td>\n",
       "      <td>35884.000000</td>\n",
       "      <td>35884.000000</td>\n",
       "    </tr>\n",
       "    <tr>\n",
       "      <th>mean</th>\n",
       "      <td>2.706058e+07</td>\n",
       "      <td>3.123593</td>\n",
       "      <td>0.507998</td>\n",
       "    </tr>\n",
       "    <tr>\n",
       "      <th>std</th>\n",
       "      <td>8.835076e+06</td>\n",
       "      <td>1.512932</td>\n",
       "      <td>0.499943</td>\n",
       "    </tr>\n",
       "    <tr>\n",
       "      <th>min</th>\n",
       "      <td>1.807311e+07</td>\n",
       "      <td>1.000000</td>\n",
       "      <td>0.000000</td>\n",
       "    </tr>\n",
       "    <tr>\n",
       "      <th>25%</th>\n",
       "      <td>2.053311e+07</td>\n",
       "      <td>2.000000</td>\n",
       "      <td>0.000000</td>\n",
       "    </tr>\n",
       "    <tr>\n",
       "      <th>50%</th>\n",
       "      <td>2.462190e+07</td>\n",
       "      <td>3.000000</td>\n",
       "      <td>1.000000</td>\n",
       "    </tr>\n",
       "    <tr>\n",
       "      <th>75%</th>\n",
       "      <td>3.298538e+07</td>\n",
       "      <td>4.000000</td>\n",
       "      <td>1.000000</td>\n",
       "    </tr>\n",
       "    <tr>\n",
       "      <th>max</th>\n",
       "      <td>4.836594e+07</td>\n",
       "      <td>6.000000</td>\n",
       "      <td>1.000000</td>\n",
       "    </tr>\n",
       "  </tbody>\n",
       "</table>\n",
       "</div>"
      ],
      "text/plain": [
       "          CLIENT ID  CLIENT_SEGMENT  RECEIVED_COMMUNICATION\n",
       "count  3.588400e+04    35884.000000            35884.000000\n",
       "mean   2.706058e+07        3.123593                0.507998\n",
       "std    8.835076e+06        1.512932                0.499943\n",
       "min    1.807311e+07        1.000000                0.000000\n",
       "25%    2.053311e+07        2.000000                0.000000\n",
       "50%    2.462190e+07        3.000000                1.000000\n",
       "75%    3.298538e+07        4.000000                1.000000\n",
       "max    4.836594e+07        6.000000                1.000000"
      ]
     },
     "execution_count": 4,
     "metadata": {},
     "output_type": "execute_result"
    }
   ],
   "source": [
    "df_clients.describe()"
   ]
  },
  {
   "cell_type": "code",
   "execution_count": 5,
   "id": "43723f4b",
   "metadata": {
    "scrolled": true
   },
   "outputs": [
    {
     "name": "stdout",
     "output_type": "stream",
     "text": [
      "<class 'pandas.core.frame.DataFrame'>\n",
      "RangeIndex: 35884 entries, 0 to 35883\n",
      "Data columns (total 5 columns):\n",
      " #   Column                  Non-Null Count  Dtype \n",
      "---  ------                  --------------  ----- \n",
      " 0   CLIENT ID               35884 non-null  int64 \n",
      " 1   CLIENT_SEGMENT          35884 non-null  int64 \n",
      " 2   AVG CONSO               35884 non-null  object\n",
      " 3   AVG BASKET SIZE         35884 non-null  object\n",
      " 4   RECEIVED_COMMUNICATION  35884 non-null  int64 \n",
      "dtypes: int64(3), object(2)\n",
      "memory usage: 1.4+ MB\n"
     ]
    }
   ],
   "source": [
    "df_clients.info()"
   ]
  },
  {
   "cell_type": "markdown",
   "id": "3a48c00a",
   "metadata": {},
   "source": [
    "Observamos que las variables AVG CONSO y AVG BASKET SIZE no aparecen en la tabla de descripcion y la funcion .info() nos señala que son de tipo object y deberian ser de tipo float para poder realizar un analisis y poder manipularlas adecuadamente por lo tanto primero debemos canviar el tipo del atributo"
   ]
  },
  {
   "cell_type": "code",
   "execution_count": 6,
   "id": "5b9a6d23",
   "metadata": {},
   "outputs": [],
   "source": [
    "for atr in df_clients.keys():\n",
    "    if df_clients.dtypes[atr]==np.object:\n",
    "        df_clients[atr].replace(',','.',inplace=True,regex=True)\n",
    "        df_clients[atr]=df_clients[atr].astype(float)"
   ]
  },
  {
   "cell_type": "code",
   "execution_count": 7,
   "id": "22216736",
   "metadata": {},
   "outputs": [
    {
     "data": {
      "text/html": [
       "<div>\n",
       "<style scoped>\n",
       "    .dataframe tbody tr th:only-of-type {\n",
       "        vertical-align: middle;\n",
       "    }\n",
       "\n",
       "    .dataframe tbody tr th {\n",
       "        vertical-align: top;\n",
       "    }\n",
       "\n",
       "    .dataframe thead th {\n",
       "        text-align: right;\n",
       "    }\n",
       "</style>\n",
       "<table border=\"1\" class=\"dataframe\">\n",
       "  <thead>\n",
       "    <tr style=\"text-align: right;\">\n",
       "      <th></th>\n",
       "      <th>CLIENT ID</th>\n",
       "      <th>CLIENT_SEGMENT</th>\n",
       "      <th>AVG CONSO</th>\n",
       "      <th>AVG BASKET SIZE</th>\n",
       "      <th>RECEIVED_COMMUNICATION</th>\n",
       "    </tr>\n",
       "  </thead>\n",
       "  <tbody>\n",
       "    <tr>\n",
       "      <th>count</th>\n",
       "      <td>3.588400e+04</td>\n",
       "      <td>35884.000000</td>\n",
       "      <td>35884.000000</td>\n",
       "      <td>35884.000000</td>\n",
       "      <td>35884.000000</td>\n",
       "    </tr>\n",
       "    <tr>\n",
       "      <th>mean</th>\n",
       "      <td>2.706058e+07</td>\n",
       "      <td>3.123593</td>\n",
       "      <td>64.534437</td>\n",
       "      <td>181.218610</td>\n",
       "      <td>0.507998</td>\n",
       "    </tr>\n",
       "    <tr>\n",
       "      <th>std</th>\n",
       "      <td>8.835076e+06</td>\n",
       "      <td>1.512932</td>\n",
       "      <td>64.381932</td>\n",
       "      <td>129.604691</td>\n",
       "      <td>0.499943</td>\n",
       "    </tr>\n",
       "    <tr>\n",
       "      <th>min</th>\n",
       "      <td>1.807311e+07</td>\n",
       "      <td>1.000000</td>\n",
       "      <td>0.830000</td>\n",
       "      <td>10.000000</td>\n",
       "      <td>0.000000</td>\n",
       "    </tr>\n",
       "    <tr>\n",
       "      <th>25%</th>\n",
       "      <td>2.053311e+07</td>\n",
       "      <td>2.000000</td>\n",
       "      <td>20.830000</td>\n",
       "      <td>100.000000</td>\n",
       "      <td>0.000000</td>\n",
       "    </tr>\n",
       "    <tr>\n",
       "      <th>50%</th>\n",
       "      <td>2.462190e+07</td>\n",
       "      <td>3.000000</td>\n",
       "      <td>50.000000</td>\n",
       "      <td>160.000000</td>\n",
       "      <td>1.000000</td>\n",
       "    </tr>\n",
       "    <tr>\n",
       "      <th>75%</th>\n",
       "      <td>3.298538e+07</td>\n",
       "      <td>4.000000</td>\n",
       "      <td>88.170000</td>\n",
       "      <td>225.000000</td>\n",
       "      <td>1.000000</td>\n",
       "    </tr>\n",
       "    <tr>\n",
       "      <th>max</th>\n",
       "      <td>4.836594e+07</td>\n",
       "      <td>6.000000</td>\n",
       "      <td>2433.330000</td>\n",
       "      <td>3400.200000</td>\n",
       "      <td>1.000000</td>\n",
       "    </tr>\n",
       "  </tbody>\n",
       "</table>\n",
       "</div>"
      ],
      "text/plain": [
       "          CLIENT ID  CLIENT_SEGMENT     AVG CONSO  AVG BASKET SIZE  \\\n",
       "count  3.588400e+04    35884.000000  35884.000000     35884.000000   \n",
       "mean   2.706058e+07        3.123593     64.534437       181.218610   \n",
       "std    8.835076e+06        1.512932     64.381932       129.604691   \n",
       "min    1.807311e+07        1.000000      0.830000        10.000000   \n",
       "25%    2.053311e+07        2.000000     20.830000       100.000000   \n",
       "50%    2.462190e+07        3.000000     50.000000       160.000000   \n",
       "75%    3.298538e+07        4.000000     88.170000       225.000000   \n",
       "max    4.836594e+07        6.000000   2433.330000      3400.200000   \n",
       "\n",
       "       RECEIVED_COMMUNICATION  \n",
       "count            35884.000000  \n",
       "mean                 0.507998  \n",
       "std                  0.499943  \n",
       "min                  0.000000  \n",
       "25%                  0.000000  \n",
       "50%                  1.000000  \n",
       "75%                  1.000000  \n",
       "max                  1.000000  "
      ]
     },
     "execution_count": 7,
     "metadata": {},
     "output_type": "execute_result"
    }
   ],
   "source": [
    "df_clients.describe()"
   ]
  },
  {
   "cell_type": "code",
   "execution_count": 8,
   "id": "72f1d502",
   "metadata": {},
   "outputs": [
    {
     "data": {
      "text/html": [
       "<div>\n",
       "<style scoped>\n",
       "    .dataframe tbody tr th:only-of-type {\n",
       "        vertical-align: middle;\n",
       "    }\n",
       "\n",
       "    .dataframe tbody tr th {\n",
       "        vertical-align: top;\n",
       "    }\n",
       "\n",
       "    .dataframe thead th {\n",
       "        text-align: right;\n",
       "    }\n",
       "</style>\n",
       "<table border=\"1\" class=\"dataframe\">\n",
       "  <thead>\n",
       "    <tr style=\"text-align: right;\">\n",
       "      <th></th>\n",
       "      <th>CLIENT ID</th>\n",
       "      <th>NB PRODS</th>\n",
       "      <th>ORDER ID</th>\n",
       "      <th>FRUIT_PRODUCT</th>\n",
       "    </tr>\n",
       "  </thead>\n",
       "  <tbody>\n",
       "    <tr>\n",
       "      <th>0</th>\n",
       "      <td>18070505</td>\n",
       "      <td>5</td>\n",
       "      <td>671907264</td>\n",
       "      <td>Apple</td>\n",
       "    </tr>\n",
       "    <tr>\n",
       "      <th>1</th>\n",
       "      <td>18070505</td>\n",
       "      <td>10</td>\n",
       "      <td>671907264</td>\n",
       "      <td>Orange</td>\n",
       "    </tr>\n",
       "    <tr>\n",
       "      <th>2</th>\n",
       "      <td>18070505</td>\n",
       "      <td>5</td>\n",
       "      <td>671907264</td>\n",
       "      <td>Kiwi</td>\n",
       "    </tr>\n",
       "    <tr>\n",
       "      <th>3</th>\n",
       "      <td>18070505</td>\n",
       "      <td>10</td>\n",
       "      <td>671907264</td>\n",
       "      <td>Pear</td>\n",
       "    </tr>\n",
       "    <tr>\n",
       "      <th>4</th>\n",
       "      <td>18070505</td>\n",
       "      <td>5</td>\n",
       "      <td>671907264</td>\n",
       "      <td>Cheery</td>\n",
       "    </tr>\n",
       "  </tbody>\n",
       "</table>\n",
       "</div>"
      ],
      "text/plain": [
       "   CLIENT ID  NB PRODS   ORDER ID FRUIT_PRODUCT\n",
       "0   18070505         5  671907264         Apple\n",
       "1   18070505        10  671907264        Orange\n",
       "2   18070505         5  671907264          Kiwi\n",
       "3   18070505        10  671907264          Pear\n",
       "4   18070505         5  671907264        Cheery"
      ]
     },
     "execution_count": 8,
     "metadata": {},
     "output_type": "execute_result"
    }
   ],
   "source": [
    "df_orders.head()"
   ]
  },
  {
   "cell_type": "code",
   "execution_count": 9,
   "id": "e9c30a81",
   "metadata": {},
   "outputs": [
    {
     "name": "stdout",
     "output_type": "stream",
     "text": [
      "<class 'pandas.core.frame.DataFrame'>\n",
      "RangeIndex: 66912 entries, 0 to 66911\n",
      "Data columns (total 4 columns):\n",
      " #   Column         Non-Null Count  Dtype \n",
      "---  ------         --------------  ----- \n",
      " 0   CLIENT ID      66912 non-null  int64 \n",
      " 1   NB PRODS       66912 non-null  int64 \n",
      " 2   ORDER ID       66912 non-null  int64 \n",
      " 3   FRUIT_PRODUCT  66912 non-null  object\n",
      "dtypes: int64(3), object(1)\n",
      "memory usage: 2.0+ MB\n"
     ]
    }
   ],
   "source": [
    "df_orders.info()"
   ]
  },
  {
   "cell_type": "code",
   "execution_count": 10,
   "id": "3c4dc51a",
   "metadata": {},
   "outputs": [
    {
     "data": {
      "text/html": [
       "<div>\n",
       "<style scoped>\n",
       "    .dataframe tbody tr th:only-of-type {\n",
       "        vertical-align: middle;\n",
       "    }\n",
       "\n",
       "    .dataframe tbody tr th {\n",
       "        vertical-align: top;\n",
       "    }\n",
       "\n",
       "    .dataframe thead th {\n",
       "        text-align: right;\n",
       "    }\n",
       "</style>\n",
       "<table border=\"1\" class=\"dataframe\">\n",
       "  <thead>\n",
       "    <tr style=\"text-align: right;\">\n",
       "      <th></th>\n",
       "      <th>CLIENT ID</th>\n",
       "      <th>NB PRODS</th>\n",
       "      <th>ORDER ID</th>\n",
       "    </tr>\n",
       "  </thead>\n",
       "  <tbody>\n",
       "    <tr>\n",
       "      <th>count</th>\n",
       "      <td>6.691200e+04</td>\n",
       "      <td>66912.000000</td>\n",
       "      <td>6.691200e+04</td>\n",
       "    </tr>\n",
       "    <tr>\n",
       "      <th>mean</th>\n",
       "      <td>2.613407e+07</td>\n",
       "      <td>4.528112</td>\n",
       "      <td>6.722533e+08</td>\n",
       "    </tr>\n",
       "    <tr>\n",
       "      <th>std</th>\n",
       "      <td>8.473596e+06</td>\n",
       "      <td>5.788227</td>\n",
       "      <td>3.205826e+06</td>\n",
       "    </tr>\n",
       "    <tr>\n",
       "      <th>min</th>\n",
       "      <td>1.807050e+07</td>\n",
       "      <td>-80.000000</td>\n",
       "      <td>6.638335e+08</td>\n",
       "    </tr>\n",
       "    <tr>\n",
       "      <th>25%</th>\n",
       "      <td>2.017427e+07</td>\n",
       "      <td>1.000000</td>\n",
       "      <td>6.694803e+08</td>\n",
       "    </tr>\n",
       "    <tr>\n",
       "      <th>50%</th>\n",
       "      <td>2.438055e+07</td>\n",
       "      <td>3.000000</td>\n",
       "      <td>6.719971e+08</td>\n",
       "    </tr>\n",
       "    <tr>\n",
       "      <th>75%</th>\n",
       "      <td>2.538708e+07</td>\n",
       "      <td>5.000000</td>\n",
       "      <td>6.750893e+08</td>\n",
       "    </tr>\n",
       "    <tr>\n",
       "      <th>max</th>\n",
       "      <td>4.836586e+07</td>\n",
       "      <td>198.000000</td>\n",
       "      <td>6.832132e+08</td>\n",
       "    </tr>\n",
       "  </tbody>\n",
       "</table>\n",
       "</div>"
      ],
      "text/plain": [
       "          CLIENT ID      NB PRODS      ORDER ID\n",
       "count  6.691200e+04  66912.000000  6.691200e+04\n",
       "mean   2.613407e+07      4.528112  6.722533e+08\n",
       "std    8.473596e+06      5.788227  3.205826e+06\n",
       "min    1.807050e+07    -80.000000  6.638335e+08\n",
       "25%    2.017427e+07      1.000000  6.694803e+08\n",
       "50%    2.438055e+07      3.000000  6.719971e+08\n",
       "75%    2.538708e+07      5.000000  6.750893e+08\n",
       "max    4.836586e+07    198.000000  6.832132e+08"
      ]
     },
     "execution_count": 10,
     "metadata": {},
     "output_type": "execute_result"
    }
   ],
   "source": [
    "df_orders.describe()"
   ]
  },
  {
   "cell_type": "markdown",
   "id": "c5db0587",
   "metadata": {},
   "source": [
    "### *Analisis univariable*"
   ]
  },
  {
   "cell_type": "markdown",
   "id": "2191ecb6",
   "metadata": {},
   "source": [
    "**CLIENT_SEGMENT**"
   ]
  },
  {
   "cell_type": "markdown",
   "id": "1b8deab2",
   "metadata": {},
   "source": [
    "la variable CLIENT_SEGMENT es de tipo categorica que nos agrupa los clientes por segmento  del 1 al 6."
   ]
  },
  {
   "cell_type": "markdown",
   "id": "ac15aead",
   "metadata": {},
   "source": [
    "agrupamos todos los clientes en funcion del segmento al que corresponden para ver el tamaño que ocupan en cada segmento"
   ]
  },
  {
   "cell_type": "code",
   "execution_count": 11,
   "id": "a29a6d4f",
   "metadata": {},
   "outputs": [],
   "source": [
    "clients_segment=df_clients['CLIENT_SEGMENT'].value_counts().reset_index().rename(columns={'index': 'clients_segment','CLIENT_SEGMENT':'total_clients'})\n",
    "clients_segment['total_pct']= (clients_segment.total_clients/clients_segment.total_clients.sum())*100"
   ]
  },
  {
   "cell_type": "code",
   "execution_count": 12,
   "id": "0bcd4427",
   "metadata": {},
   "outputs": [],
   "source": [
    "cl_seg_plt =clients_segment.sort_values(by=['clients_segment']).reset_index(drop=True)"
   ]
  },
  {
   "cell_type": "code",
   "execution_count": 13,
   "id": "64b112c6",
   "metadata": {},
   "outputs": [
    {
     "data": {
      "image/png": "[encoded data removed]",
      "text/plain": [
       "<Figure size 720x360 with 1 Axes>"
      ]
     },
     "metadata": {
      "needs_background": "light"
     },
     "output_type": "display_data"
    }
   ],
   "source": [
    "plt.figure(figsize=(10,5))\n",
    "ax = sns.barplot(x=\"clients_segment\", y=\"total_clients\", data=cl_seg_plt)\n",
    "patches = ax.patches\n",
    "for i in range(len(patches)):\n",
    "    \n",
    "    x = patches[i].get_x() + patches[i].get_width()/2\n",
    "    y = patches[i].get_height()+0.5\n",
    "    ax.annotate('{:.1f}%'.format(cl_seg_plt['total_pct'][i]), (x, y), ha='center')\n",
    "\n",
    "plt.show()"
   ]
  },
  {
   "cell_type": "markdown",
   "id": "16e0db20",
   "metadata": {},
   "source": [
    "Observamos que en los segmentos 3 y 4 son los segmentos mas grandes con el 22% de clientes seguido del los de los segmentos 1 y 2 con el 18% de clientes y finalmente los segmentos 5 y 6 con el 9% y 8% restante de clientes"
   ]
  },
  {
   "cell_type": "markdown",
   "id": "67f5765e",
   "metadata": {},
   "source": [
    "**AVG CONSO**"
   ]
  },
  {
   "cell_type": "markdown",
   "id": "9497c1b1",
   "metadata": {},
   "source": [
    "La variable AVG CONSO es una  variable de tipo continua del conumo promedio mensual por cliente."
   ]
  },
  {
   "cell_type": "code",
   "execution_count": 14,
   "id": "69b7d593",
   "metadata": {},
   "outputs": [
    {
     "data": {
      "image/png": "[encoded data removed]",
      "text/plain": [
       "<Figure size 1152x432 with 2 Axes>"
      ]
     },
     "metadata": {
      "needs_background": "light"
     },
     "output_type": "display_data"
    }
   ],
   "source": [
    "fig, axes = plt.subplots(1, 2, figsize=(16, 6))\n",
    "sns.boxplot(data=df_clients,ax=axes[0], x=\"AVG CONSO\")\n",
    "sns.histplot(data=df_clients,ax=axes[1], x=\"AVG CONSO\")\n",
    "plt.show()"
   ]
  },
  {
   "cell_type": "markdown",
   "id": "d292213e",
   "metadata": {},
   "source": [
    "en los graficos nos muestra la aparicion de outliers dado que el grueso de medias de consumo  estan muy por debajo de los  maximos"
   ]
  },
  {
   "cell_type": "markdown",
   "id": "a3952c9b",
   "metadata": {},
   "source": [
    "**AVG BASKET SIZE**"
   ]
  },
  {
   "cell_type": "markdown",
   "id": "fddd61aa",
   "metadata": {},
   "source": [
    "es una variable de tipo continua  que contiene el tamaño medio mensual de la cesta por cliente"
   ]
  },
  {
   "cell_type": "code",
   "execution_count": 15,
   "id": "ac17b4a6",
   "metadata": {},
   "outputs": [
    {
     "data": {
      "image/png": "[encoded data removed]",
      "text/plain": [
       "<Figure size 1152x432 with 2 Axes>"
      ]
     },
     "metadata": {
      "needs_background": "light"
     },
     "output_type": "display_data"
    }
   ],
   "source": [
    "fig, axes = plt.subplots(1, 2, figsize=(16, 6))\n",
    "sns.boxplot(data=df_clients,ax=axes[0], x=\"AVG BASKET SIZE\",color='g')\n",
    "sns.histplot(data=df_clients,ax=axes[1], x=\"AVG BASKET SIZE\",color='g')\n",
    "plt.show()"
   ]
  },
  {
   "cell_type": "markdown",
   "id": "3d8360d9",
   "metadata": {},
   "source": [
    "**RECEIVED_COMMUNICATION**"
   ]
  },
  {
   "cell_type": "markdown",
   "id": "a44fbbdc",
   "metadata": {},
   "source": [
    "Es una variable booleana de tipo categorica donde indica si un cliente ha recibido promocion de los productos que compró"
   ]
  },
  {
   "cell_type": "code",
   "execution_count": 16,
   "id": "4b729893",
   "metadata": {},
   "outputs": [
    {
     "data": {
      "image/png": "[encoded data removed]",
      "text/plain": [
       "<Figure size 720x432 with 1 Axes>"
      ]
     },
     "metadata": {},
     "output_type": "display_data"
    }
   ],
   "source": [
    "plt.figure(figsize=(10,6))\n",
    "colors = sns.color_palette('tab10')\n",
    "labels=['Con promoción','Sin promoción']\n",
    "plt.pie(df_clients['RECEIVED_COMMUNICATION'].value_counts(),labels=labels, colors = colors, autopct='%.0f%%')\n",
    "plt.show()"
   ]
  },
  {
   "cell_type": "markdown",
   "id": "fd69956d",
   "metadata": {},
   "source": [
    "El anterior grafico nos muestra que el 51% de los clientes recibieron promocion de los productos que compraron respecto al 49% que no recibieron promocion de los productos"
   ]
  },
  {
   "cell_type": "markdown",
   "id": "13725357",
   "metadata": {},
   "source": [
    "## *Analisis Multivariable*"
   ]
  },
  {
   "cell_type": "markdown",
   "id": "dc6a84b5",
   "metadata": {},
   "source": [
    "Seguidamente analizamos que caracteristicas en particular tiene cada segmento"
   ]
  },
  {
   "cell_type": "markdown",
   "id": "cf9def5f",
   "metadata": {},
   "source": [
    "*consumo y tamaño de la cesta  por segmentos*"
   ]
  },
  {
   "cell_type": "code",
   "execution_count": 17,
   "id": "8649e81d",
   "metadata": {},
   "outputs": [],
   "source": [
    "grouped = df_clients.groupby('CLIENT_SEGMENT')[['AVG CONSO','AVG BASKET SIZE']].apply(sum)"
   ]
  },
  {
   "cell_type": "code",
   "execution_count": 18,
   "id": "927da778",
   "metadata": {},
   "outputs": [],
   "source": [
    "grouped = grouped.reset_index().rename(columns={'index': 'clients_segment','AVG CONSO':'total avg conso',\n",
    "                                                'AVG BASKET SIZE':'total avg basket size'})"
   ]
  },
  {
   "cell_type": "code",
   "execution_count": 19,
   "id": "8765910f",
   "metadata": {},
   "outputs": [
    {
     "data": {
      "text/html": [
       "<div>\n",
       "<style scoped>\n",
       "    .dataframe tbody tr th:only-of-type {\n",
       "        vertical-align: middle;\n",
       "    }\n",
       "\n",
       "    .dataframe tbody tr th {\n",
       "        vertical-align: top;\n",
       "    }\n",
       "\n",
       "    .dataframe thead th {\n",
       "        text-align: right;\n",
       "    }\n",
       "</style>\n",
       "<table border=\"1\" class=\"dataframe\">\n",
       "  <thead>\n",
       "    <tr style=\"text-align: right;\">\n",
       "      <th></th>\n",
       "      <th>CLIENT_SEGMENT</th>\n",
       "      <th>total avg conso</th>\n",
       "      <th>total avg basket size</th>\n",
       "    </tr>\n",
       "  </thead>\n",
       "  <tbody>\n",
       "    <tr>\n",
       "      <th>0</th>\n",
       "      <td>1</td>\n",
       "      <td>860472.89</td>\n",
       "      <td>1238138.77</td>\n",
       "    </tr>\n",
       "    <tr>\n",
       "      <th>1</th>\n",
       "      <td>2</td>\n",
       "      <td>590555.30</td>\n",
       "      <td>2018506.81</td>\n",
       "    </tr>\n",
       "    <tr>\n",
       "      <th>2</th>\n",
       "      <td>3</td>\n",
       "      <td>351980.56</td>\n",
       "      <td>1328939.97</td>\n",
       "    </tr>\n",
       "    <tr>\n",
       "      <th>3</th>\n",
       "      <td>4</td>\n",
       "      <td>165420.78</td>\n",
       "      <td>836102.49</td>\n",
       "    </tr>\n",
       "    <tr>\n",
       "      <th>4</th>\n",
       "      <td>5</td>\n",
       "      <td>22632.66</td>\n",
       "      <td>195016.85</td>\n",
       "    </tr>\n",
       "    <tr>\n",
       "      <th>5</th>\n",
       "      <td>6</td>\n",
       "      <td>324691.54</td>\n",
       "      <td>886143.70</td>\n",
       "    </tr>\n",
       "  </tbody>\n",
       "</table>\n",
       "</div>"
      ],
      "text/plain": [
       "   CLIENT_SEGMENT  total avg conso  total avg basket size\n",
       "0               1        860472.89             1238138.77\n",
       "1               2        590555.30             2018506.81\n",
       "2               3        351980.56             1328939.97\n",
       "3               4        165420.78              836102.49\n",
       "4               5         22632.66              195016.85\n",
       "5               6        324691.54              886143.70"
      ]
     },
     "execution_count": 19,
     "metadata": {},
     "output_type": "execute_result"
    }
   ],
   "source": [
    "grouped"
   ]
  },
  {
   "cell_type": "code",
   "execution_count": 20,
   "id": "22868fbe",
   "metadata": {},
   "outputs": [
    {
     "data": {
      "text/plain": [
       "<AxesSubplot:xlabel='CLIENT_SEGMENT', ylabel='AVG BASKET SIZE'>"
      ]
     },
     "execution_count": 20,
     "metadata": {},
     "output_type": "execute_result"
    },
    {
     "data": {
      "image/png": "[encoded data removed]",
      "text/plain": [
       "<Figure size 1152x576 with 4 Axes>"
      ]
     },
     "metadata": {
      "needs_background": "light"
     },
     "output_type": "display_data"
    }
   ],
   "source": [
    "fig, axes = plt.subplots(2, 2, figsize=(16, 8))\n",
    "sns.barplot(x=\"CLIENT_SEGMENT\", y=\"AVG CONSO\", data=df_clients,ax=axes[0][0]).set(title=\"Consumo por segmento\")\n",
    "sns.barplot(x=\"CLIENT_SEGMENT\", y=\"AVG BASKET SIZE\", data=df_clients,ax=axes[0][1]).set(title=\"tamaño de la cesta por segmento\")\n",
    "sns.boxplot(x=\"CLIENT_SEGMENT\", y=\"AVG CONSO\", data=df_clients,ax=axes[1][0])\n",
    "sns.boxplot(x=\"CLIENT_SEGMENT\", y=\"AVG BASKET SIZE\", data=df_clients,ax=axes[1][1])"
   ]
  },
  {
   "cell_type": "markdown",
   "id": "eb480daf",
   "metadata": {},
   "source": [
    "observamos que el consumo por segmentos  decrece exceptuando el segmento 6, que se colocaria entre el segmento 1 y 2.Por lo tanto, el orden de mayor a menor respecto el consumo mensual seria 1,6,2,3,4,5"
   ]
  },
  {
   "cell_type": "markdown",
   "id": "4c935dfa",
   "metadata": {},
   "source": [
    "al realizar un boxplot observamos la presencia de bastantes outliers sobretodo en el segmento 6, para tener un analisis mas representativo del conjunto debemos tratarlos"
   ]
  },
  {
   "cell_type": "markdown",
   "id": "2251ac13",
   "metadata": {},
   "source": [
    "*Tratamiento de outliers sobre avg conso y avg basket size*"
   ]
  },
  {
   "cell_type": "code",
   "execution_count": 21,
   "id": "d5a34528",
   "metadata": {},
   "outputs": [],
   "source": [
    "def outlier_treatment(datacolumn):\n",
    "    #sorted(datacolumn)\n",
    "    q1,q3= np.percentile(datacolumn , [25,75])\n",
    "    iqr = q3 - q1\n",
    "    lower_range = q1 - (1.5 * iqr)\n",
    "    upper_range = q3 + (1.5 * iqr)\n",
    "    return lower_range,upper_range"
   ]
  },
  {
   "cell_type": "code",
   "execution_count": 22,
   "id": "4a29ccf8",
   "metadata": {},
   "outputs": [
    {
     "name": "stdout",
     "output_type": "stream",
     "text": [
      "AVG CONSO\n",
      "lower -80.18\n",
      "upper 189.18\n",
      "AVG BASKET SIZE\n",
      "lower -75.005\n",
      "upper 391.67499999999995\n"
     ]
    }
   ],
   "source": [
    "for x in ['AVG CONSO','AVG BASKET SIZE']:\n",
    "    lowerbound,upperbound = outlier_treatment(df_clients[x])\n",
    "    print(x)\n",
    "    print(\"lower\",lowerbound)\n",
    "    print(\"upper\",upperbound)\n",
    "    df_clients.drop(df_clients[ (df_clients[x] > upperbound) | (df_clients[x]< lowerbound) ].index,inplace=True )"
   ]
  },
  {
   "cell_type": "code",
   "execution_count": 23,
   "id": "1f2832d2",
   "metadata": {},
   "outputs": [
    {
     "data": {
      "image/png": "[encoded data removed]",
      "text/plain": [
       "<Figure size 1152x432 with 4 Axes>"
      ]
     },
     "metadata": {
      "needs_background": "light"
     },
     "output_type": "display_data"
    }
   ],
   "source": [
    "fig, axes = plt.subplots(2, 2, figsize=(16, 6))\n",
    "sns.boxplot(data=df_clients,ax=axes[0][0], x=\"AVG CONSO\")\n",
    "sns.histplot(data=df_clients,ax=axes[0][1], x=\"AVG CONSO\")\n",
    "sns.boxplot(data=df_clients,ax=axes[1][0], x=\"AVG BASKET SIZE\",color='g')\n",
    "sns.histplot(data=df_clients,ax=axes[1][1], x=\"AVG BASKET SIZE\",color='g')\n",
    "plt.show()"
   ]
  },
  {
   "cell_type": "code",
   "execution_count": 24,
   "id": "44924ca0",
   "metadata": {},
   "outputs": [
    {
     "data": {
      "text/plain": [
       "<AxesSubplot:xlabel='CLIENT_SEGMENT', ylabel='AVG BASKET SIZE'>"
      ]
     },
     "execution_count": 24,
     "metadata": {},
     "output_type": "execute_result"
    },
    {
     "data": {
      "image/png": "[encoded data removed]",
      "text/plain": [
       "<Figure size 1152x576 with 4 Axes>"
      ]
     },
     "metadata": {
      "needs_background": "light"
     },
     "output_type": "display_data"
    }
   ],
   "source": [
    "fig, axes = plt.subplots(2, 2, figsize=(16, 8))\n",
    "sns.barplot(x=\"CLIENT_SEGMENT\", y=\"AVG CONSO\", data=df_clients,ax=axes[0][0]).set(title=\"Consumo por segmento\")\n",
    "sns.barplot(x=\"CLIENT_SEGMENT\", y=\"AVG BASKET SIZE\", data=df_clients,ax=axes[0][1]).set(title=\"tamaño de la cesta por segmento\")\n",
    "sns.boxplot(x=\"CLIENT_SEGMENT\", y=\"AVG CONSO\", data=df_clients,ax=axes[1][0])\n",
    "sns.boxplot(x=\"CLIENT_SEGMENT\", y=\"AVG BASKET SIZE\", data=df_clients,ax=axes[1][1])"
   ]
  },
  {
   "cell_type": "markdown",
   "id": "1b38e703",
   "metadata": {},
   "source": [
    "una vez tratados los outliers en las variables avg conso y avg basket size  ya podemos observar una clasificacion en los segmentos de clientes"
   ]
  },
  {
   "cell_type": "markdown",
   "id": "adb2cefc",
   "metadata": {},
   "source": [
    "Observamos que los clientes del segmento 1 son el grupo con la media de consumo anual mas alta aunque no es el grupo con  el tamaño medio de la cesta mas grande , podemos deducir que  no por tener un consumo mas alto significa un tamaño de cesta mayor"
   ]
  },
  {
   "cell_type": "code",
   "execution_count": 25,
   "id": "866f6a99",
   "metadata": {},
   "outputs": [],
   "source": [
    "seg_conso_basket = df_clients.groupby('CLIENT_SEGMENT')[['AVG CONSO','AVG BASKET SIZE']].mean()"
   ]
  },
  {
   "cell_type": "code",
   "execution_count": 26,
   "id": "6a421edd",
   "metadata": {},
   "outputs": [
    {
     "data": {
      "text/html": [
       "<div>\n",
       "<style scoped>\n",
       "    .dataframe tbody tr th:only-of-type {\n",
       "        vertical-align: middle;\n",
       "    }\n",
       "\n",
       "    .dataframe tbody tr th {\n",
       "        vertical-align: top;\n",
       "    }\n",
       "\n",
       "    .dataframe thead th {\n",
       "        text-align: right;\n",
       "    }\n",
       "</style>\n",
       "<table border=\"1\" class=\"dataframe\">\n",
       "  <thead>\n",
       "    <tr style=\"text-align: right;\">\n",
       "      <th></th>\n",
       "      <th>AVG CONSO</th>\n",
       "      <th>AVG BASKET SIZE</th>\n",
       "    </tr>\n",
       "    <tr>\n",
       "      <th>CLIENT_SEGMENT</th>\n",
       "      <th></th>\n",
       "      <th></th>\n",
       "    </tr>\n",
       "  </thead>\n",
       "  <tbody>\n",
       "    <tr>\n",
       "      <th>1</th>\n",
       "      <td>115.648036</td>\n",
       "      <td>174.889339</td>\n",
       "    </tr>\n",
       "    <tr>\n",
       "      <th>2</th>\n",
       "      <td>78.644968</td>\n",
       "      <td>247.624787</td>\n",
       "    </tr>\n",
       "    <tr>\n",
       "      <th>3</th>\n",
       "      <td>43.403543</td>\n",
       "      <td>158.852061</td>\n",
       "    </tr>\n",
       "    <tr>\n",
       "      <th>4</th>\n",
       "      <td>20.844386</td>\n",
       "      <td>104.953562</td>\n",
       "    </tr>\n",
       "    <tr>\n",
       "      <th>5</th>\n",
       "      <td>6.600367</td>\n",
       "      <td>56.872805</td>\n",
       "    </tr>\n",
       "    <tr>\n",
       "      <th>6</th>\n",
       "      <td>65.657012</td>\n",
       "      <td>199.918614</td>\n",
       "    </tr>\n",
       "  </tbody>\n",
       "</table>\n",
       "</div>"
      ],
      "text/plain": [
       "                 AVG CONSO  AVG BASKET SIZE\n",
       "CLIENT_SEGMENT                             \n",
       "1               115.648036       174.889339\n",
       "2                78.644968       247.624787\n",
       "3                43.403543       158.852061\n",
       "4                20.844386       104.953562\n",
       "5                 6.600367        56.872805\n",
       "6                65.657012       199.918614"
      ]
     },
     "execution_count": 26,
     "metadata": {},
     "output_type": "execute_result"
    }
   ],
   "source": [
    "seg_conso_basket"
   ]
  },
  {
   "cell_type": "markdown",
   "id": "f99a74c5",
   "metadata": {},
   "source": [
    "*Relacion entre promocion y consumo*"
   ]
  },
  {
   "cell_type": "code",
   "execution_count": 27,
   "id": "76acd291",
   "metadata": {},
   "outputs": [
    {
     "data": {
      "text/plain": [
       "Text(0.5, 0.98, 'Impacto de la promocion respecto consumo')"
      ]
     },
     "execution_count": 27,
     "metadata": {},
     "output_type": "execute_result"
    },
    {
     "data": {
      "image/png": "[encoded data removed]",
      "text/plain": [
       "<Figure size 1152x432 with 2 Axes>"
      ]
     },
     "metadata": {
      "needs_background": "light"
     },
     "output_type": "display_data"
    }
   ],
   "source": [
    "\n",
    "fig, axes = plt.subplots(1, 2, figsize=(16, 6))\n",
    "sns.boxplot(x=\"RECEIVED_COMMUNICATION\", y=\"AVG CONSO\",ax=axes[0], data=df_clients)\n",
    "ax=sns.barplot(x=\"RECEIVED_COMMUNICATION\", y=\"AVG CONSO\",ax=axes[1], data=df_clients)\n",
    "ax.bar_label(ax.containers[0])\n",
    "fig.suptitle('Impacto de la promocion respecto consumo')"
   ]
  },
  {
   "cell_type": "code",
   "execution_count": 28,
   "id": "ea64c3b7",
   "metadata": {},
   "outputs": [],
   "source": [
    "communication_cons = df_clients.groupby('RECEIVED_COMMUNICATION')[['AVG CONSO']].mean()"
   ]
  },
  {
   "cell_type": "code",
   "execution_count": 29,
   "id": "bc5a6dfb",
   "metadata": {},
   "outputs": [
    {
     "data": {
      "text/plain": [
       "16.89"
      ]
     },
     "execution_count": 29,
     "metadata": {},
     "output_type": "execute_result"
    }
   ],
   "source": [
    "round(communication_cons.loc[1,'AVG CONSO']-communication_cons.loc[0,'AVG CONSO'],2)"
   ]
  },
  {
   "cell_type": "markdown",
   "id": "8059528e",
   "metadata": {},
   "source": [
    "El grafico nos muestra que los clientes que si recibieron promocion de los productos compran de  media un 16,89% mas que los que no recibieron promocion"
   ]
  },
  {
   "cell_type": "markdown",
   "id": "0b223ec7",
   "metadata": {},
   "source": [
    "*Relacion entre promocion y tamaño de la cesta*"
   ]
  },
  {
   "cell_type": "code",
   "execution_count": 30,
   "id": "5750d0c2",
   "metadata": {},
   "outputs": [
    {
     "data": {
      "text/plain": [
       "Text(0.5, 0.98, 'Impacto de la promocion respecto al tamaño de la cesta')"
      ]
     },
     "execution_count": 30,
     "metadata": {},
     "output_type": "execute_result"
    },
    {
     "data": {
      "text/plain": [
       "<Figure size 720x432 with 0 Axes>"
      ]
     },
     "metadata": {},
     "output_type": "display_data"
    },
    {
     "data": {
      "image/png": "[encoded data removed]",
      "text/plain": [
       "<Figure size 1152x432 with 2 Axes>"
      ]
     },
     "metadata": {
      "needs_background": "light"
     },
     "output_type": "display_data"
    }
   ],
   "source": [
    "plt.figure(figsize=(10,6))\n",
    "fig, axes = plt.subplots(1, 2, figsize=(16, 6))\n",
    "sns.boxplot(x=\"RECEIVED_COMMUNICATION\", y=\"AVG BASKET SIZE\",ax=axes[0], data=df_clients)\n",
    "ax =sns.barplot(x=\"RECEIVED_COMMUNICATION\", y=\"AVG BASKET SIZE\",ax=axes[1], data=df_clients)\n",
    "ax.bar_label(ax.containers[0])\n",
    "fig.suptitle('Impacto de la promocion respecto al tamaño de la cesta')"
   ]
  },
  {
   "cell_type": "markdown",
   "id": "af245b72",
   "metadata": {},
   "source": [
    "Obsevamos que los clientes que recibieron promocion aumentan el tamaño de la cesta  un 26% mas respecto a los que no recibieron promocion"
   ]
  },
  {
   "cell_type": "markdown",
   "id": "c8e3df00",
   "metadata": {},
   "source": [
    "# Actividad del cliente"
   ]
  },
  {
   "cell_type": "markdown",
   "id": "6e54b37a",
   "metadata": {},
   "source": [
    "### Analisis univariable"
   ]
  },
  {
   "cell_type": "markdown",
   "id": "00d2765e",
   "metadata": {},
   "source": [
    "**NB PRODS**"
   ]
  },
  {
   "cell_type": "markdown",
   "id": "d09ad99c",
   "metadata": {},
   "source": [
    "variable  categorica  que contiene el numero de productos de la variedad de fruta con escala 1 : 10"
   ]
  },
  {
   "cell_type": "code",
   "execution_count": 181,
   "id": "93397d6d",
   "metadata": {
    "scrolled": true
   },
   "outputs": [
    {
     "data": {
      "text/plain": [
       "<AxesSubplot:xlabel='NB PRODS'>"
      ]
     },
     "execution_count": 181,
     "metadata": {},
     "output_type": "execute_result"
    },
    {
     "data": {
      "image/png": "[encoded data removed]",
      "text/plain": [
       "<Figure size 720x432 with 1 Axes>"
      ]
     },
     "metadata": {
      "needs_background": "light"
     },
     "output_type": "display_data"
    }
   ],
   "source": [
    "plt.figure(figsize=(10,6))\n",
    "sns.boxplot(data=df_orders, x=\"NB PRODS\")"
   ]
  },
  {
   "cell_type": "code",
   "execution_count": 182,
   "id": "7eecaf02",
   "metadata": {},
   "outputs": [
    {
     "data": {
      "text/plain": [
       "array([  5,  10,  15,   3,   9,   2,   4,   6,   1,   7,   8,  20,  30,\n",
       "        18,  40, -40,  11,  12,  14,  -5,  16,  60,  21,  70,  13,  19,\n",
       "        27,  24,  25,  22,  -2,  35,  17,  50, -20,  43,  -6,  26,  38,\n",
       "        36,  39,  28,  80,  44, -10,  -3,  -1,  29,  32,  23,  -7,  -4,\n",
       "        -8,  75,  31, 100, -30, 198, -15,  54,  90,  45,  34,  65,  58,\n",
       "        48,  41, 120, 180, -12, -11,  42,  -9, -16,  37,  57,  33,  92,\n",
       "        49, 102, -35, -80], dtype=int64)"
      ]
     },
     "execution_count": 182,
     "metadata": {},
     "output_type": "execute_result"
    }
   ],
   "source": [
    "df_orders['NB PRODS'].unique()"
   ]
  },
  {
   "cell_type": "markdown",
   "id": "2c8f74fa",
   "metadata": {},
   "source": [
    "observamos que hay registros negativos, puede ser debido que  el cliente en un primer lugar ordena el producto pero antes de cerrar el pedido lo descarta\n"
   ]
  },
  {
   "cell_type": "code",
   "execution_count": 183,
   "id": "9c88af50",
   "metadata": {},
   "outputs": [
    {
     "data": {
      "text/plain": [
       "array([18090840, 18115855, 18362804, 18489723, 18633239, 18698768,\n",
       "       18803169, 18809103, 18851598, 19016477, 19147056, 19246696,\n",
       "       19275179, 19651613, 19850202, 19950240, 19981232, 20037550,\n",
       "       20042062, 20176306, 20231861, 20377967, 20504796, 20563810,\n",
       "       20697009, 20711202, 20763401, 20822443, 21178064, 21178780,\n",
       "       21258985, 21264556, 21455607, 21516224, 21522244, 21609080,\n",
       "       21624343, 21632340, 21676182, 21742337, 21811811, 21829443,\n",
       "       21882527, 21912288, 22006237, 37545185, 38487166, 38776055,\n",
       "       39245523, 39293252, 41685906, 42728929, 44756626, 47059235,\n",
       "       24338355, 24347950, 24398246, 24428428, 24517007, 24543175,\n",
       "       24624295, 24649727, 24650831, 24655914, 24681049, 24695092,\n",
       "       24781043, 24790894, 24810086, 24812423, 24815973, 24846479,\n",
       "       24850950, 24856734, 24862305, 24877844, 24913990, 24949437,\n",
       "       24961707, 24985516, 24993342, 25104970, 25283744, 25342966,\n",
       "       25381673, 25394668, 25464005, 32979574, 33615519, 35721925,\n",
       "       35815841, 35900207, 37940207, 39812615, 41209503, 42742047,\n",
       "       45779975, 45948990, 46885394, 46885586, 47031689, 48341696],\n",
       "      dtype=int64)"
      ]
     },
     "execution_count": 183,
     "metadata": {},
     "output_type": "execute_result"
    }
   ],
   "source": [
    "df_orders.loc[df_orders['NB PRODS']<0]['CLIENT ID'].unique()"
   ]
  },
  {
   "cell_type": "code",
   "execution_count": 184,
   "id": "2e8b7311",
   "metadata": {},
   "outputs": [
    {
     "data": {
      "text/html": [
       "<div>\n",
       "<style scoped>\n",
       "    .dataframe tbody tr th:only-of-type {\n",
       "        vertical-align: middle;\n",
       "    }\n",
       "\n",
       "    .dataframe tbody tr th {\n",
       "        vertical-align: top;\n",
       "    }\n",
       "\n",
       "    .dataframe thead th {\n",
       "        text-align: right;\n",
       "    }\n",
       "</style>\n",
       "<table border=\"1\" class=\"dataframe\">\n",
       "  <thead>\n",
       "    <tr style=\"text-align: right;\">\n",
       "      <th></th>\n",
       "      <th>CLIENT ID</th>\n",
       "      <th>NB PRODS</th>\n",
       "      <th>ORDER ID</th>\n",
       "      <th>FRUIT_PRODUCT</th>\n",
       "    </tr>\n",
       "  </thead>\n",
       "  <tbody>\n",
       "    <tr>\n",
       "      <th>398</th>\n",
       "      <td>18115855</td>\n",
       "      <td>5</td>\n",
       "      <td>676134225</td>\n",
       "      <td>Lime</td>\n",
       "    </tr>\n",
       "    <tr>\n",
       "      <th>399</th>\n",
       "      <td>18115855</td>\n",
       "      <td>3</td>\n",
       "      <td>667504655</td>\n",
       "      <td>Lime</td>\n",
       "    </tr>\n",
       "    <tr>\n",
       "      <th>400</th>\n",
       "      <td>18115855</td>\n",
       "      <td>5</td>\n",
       "      <td>675226512</td>\n",
       "      <td>Lime</td>\n",
       "    </tr>\n",
       "    <tr>\n",
       "      <th>401</th>\n",
       "      <td>18115855</td>\n",
       "      <td>-5</td>\n",
       "      <td>675226512</td>\n",
       "      <td>Lime</td>\n",
       "    </tr>\n",
       "    <tr>\n",
       "      <th>402</th>\n",
       "      <td>18115855</td>\n",
       "      <td>3</td>\n",
       "      <td>671906578</td>\n",
       "      <td>Lime</td>\n",
       "    </tr>\n",
       "    <tr>\n",
       "      <th>403</th>\n",
       "      <td>18115855</td>\n",
       "      <td>2</td>\n",
       "      <td>671906578</td>\n",
       "      <td>Jackfruit</td>\n",
       "    </tr>\n",
       "    <tr>\n",
       "      <th>404</th>\n",
       "      <td>18115855</td>\n",
       "      <td>1</td>\n",
       "      <td>667504655</td>\n",
       "      <td>Jackfruit</td>\n",
       "    </tr>\n",
       "    <tr>\n",
       "      <th>405</th>\n",
       "      <td>18115855</td>\n",
       "      <td>1</td>\n",
       "      <td>667504655</td>\n",
       "      <td>Lemon</td>\n",
       "    </tr>\n",
       "    <tr>\n",
       "      <th>406</th>\n",
       "      <td>18115855</td>\n",
       "      <td>1</td>\n",
       "      <td>673138895</td>\n",
       "      <td>Nectarine</td>\n",
       "    </tr>\n",
       "    <tr>\n",
       "      <th>407</th>\n",
       "      <td>18115855</td>\n",
       "      <td>1</td>\n",
       "      <td>673138895</td>\n",
       "      <td>Pear</td>\n",
       "    </tr>\n",
       "  </tbody>\n",
       "</table>\n",
       "</div>"
      ],
      "text/plain": [
       "     CLIENT ID  NB PRODS   ORDER ID FRUIT_PRODUCT\n",
       "398   18115855         5  676134225          Lime\n",
       "399   18115855         3  667504655          Lime\n",
       "400   18115855         5  675226512          Lime\n",
       "401   18115855        -5  675226512          Lime\n",
       "402   18115855         3  671906578          Lime\n",
       "403   18115855         2  671906578     Jackfruit\n",
       "404   18115855         1  667504655     Jackfruit\n",
       "405   18115855         1  667504655         Lemon\n",
       "406   18115855         1  673138895     Nectarine\n",
       "407   18115855         1  673138895          Pear"
      ]
     },
     "execution_count": 184,
     "metadata": {},
     "output_type": "execute_result"
    }
   ],
   "source": [
    "df_orders.loc[df_orders['CLIENT ID']==18115855]"
   ]
  },
  {
   "cell_type": "code",
   "execution_count": 185,
   "id": "d6b158d0",
   "metadata": {},
   "outputs": [
    {
     "data": {
      "text/html": [
       "<div>\n",
       "<style scoped>\n",
       "    .dataframe tbody tr th:only-of-type {\n",
       "        vertical-align: middle;\n",
       "    }\n",
       "\n",
       "    .dataframe tbody tr th {\n",
       "        vertical-align: top;\n",
       "    }\n",
       "\n",
       "    .dataframe thead th {\n",
       "        text-align: right;\n",
       "    }\n",
       "</style>\n",
       "<table border=\"1\" class=\"dataframe\">\n",
       "  <thead>\n",
       "    <tr style=\"text-align: right;\">\n",
       "      <th></th>\n",
       "      <th>CLIENT ID</th>\n",
       "      <th>NB PRODS</th>\n",
       "      <th>ORDER ID</th>\n",
       "      <th>FRUIT_PRODUCT</th>\n",
       "    </tr>\n",
       "  </thead>\n",
       "  <tbody>\n",
       "    <tr>\n",
       "      <th>66897</th>\n",
       "      <td>48341696</td>\n",
       "      <td>20</td>\n",
       "      <td>669547626</td>\n",
       "      <td>Nuwe Fruit</td>\n",
       "    </tr>\n",
       "    <tr>\n",
       "      <th>66898</th>\n",
       "      <td>48341696</td>\n",
       "      <td>-20</td>\n",
       "      <td>668265264</td>\n",
       "      <td>Nuwe Fruit</td>\n",
       "    </tr>\n",
       "    <tr>\n",
       "      <th>66899</th>\n",
       "      <td>48341696</td>\n",
       "      <td>20</td>\n",
       "      <td>668265264</td>\n",
       "      <td>Nuwe Fruit</td>\n",
       "    </tr>\n",
       "  </tbody>\n",
       "</table>\n",
       "</div>"
      ],
      "text/plain": [
       "       CLIENT ID  NB PRODS   ORDER ID FRUIT_PRODUCT\n",
       "66897   48341696        20  669547626    Nuwe Fruit\n",
       "66898   48341696       -20  668265264    Nuwe Fruit\n",
       "66899   48341696        20  668265264    Nuwe Fruit"
      ]
     },
     "execution_count": 185,
     "metadata": {},
     "output_type": "execute_result"
    }
   ],
   "source": [
    "df_orders.loc[df_orders['CLIENT ID']==48341696]"
   ]
  },
  {
   "cell_type": "markdown",
   "id": "0728773e",
   "metadata": {},
   "source": [
    "Efectivamente, vemos que el cliente  en el mismo pedido hace y deshace encargos, podria ser debido a un error al añadir el producto a la cesta"
   ]
  },
  {
   "cell_type": "markdown",
   "id": "7e9238ad",
   "metadata": {},
   "source": [
    "Vamos a comprobar el numero de veces que ocurre este suceso"
   ]
  },
  {
   "cell_type": "code",
   "execution_count": 186,
   "id": "f04a3847",
   "metadata": {},
   "outputs": [],
   "source": [
    "miss_click=df_orders.loc[df_orders['NB PRODS']<0]['ORDER ID'].count()"
   ]
  },
  {
   "cell_type": "code",
   "execution_count": 187,
   "id": "5f3d5d9a",
   "metadata": {},
   "outputs": [],
   "source": [
    "total = df_orders['NB PRODS'].count()"
   ]
  },
  {
   "cell_type": "code",
   "execution_count": 188,
   "id": "248beb44",
   "metadata": {},
   "outputs": [
    {
     "name": "stdout",
     "output_type": "stream",
     "text": [
      "Porcentage de error en la orden:\n",
      " 0.54%\n"
     ]
    }
   ],
   "source": [
    "print(\"Porcentage de error en la orden:\\n {}%\".format(round((miss_click/total)*100,2)))"
   ]
  },
  {
   "cell_type": "code",
   "execution_count": 189,
   "id": "4aac58ef",
   "metadata": {},
   "outputs": [
    {
     "data": {
      "text/plain": [
       "array([  5,  10,  15,   3,   9,   6,   2,   4,   1,   7,   8,  30,  20,\n",
       "        18,   0,  40,  13,  12,  14,  16,  28,  60,  21,  72,  11,  19,\n",
       "        27,  24,  22,  25,  35,  17,  50, -20,  43,  26,  38,  36,  39,\n",
       "        80,  44,  -1,  -3,  -5,  29,  32,  23,  -7,  -4,  -8, -10,  -2,\n",
       "        31,  70, 100,  55, 198, -15,  54,  90,  45,  34,  65,  58,  48,\n",
       "       110,  41, 120, 180,  42, -30, -16,  -9, -40,  37,  64,  -6,  57,\n",
       "        33,  92,  49, 102, -35, -80], dtype=int64)"
      ]
     },
     "execution_count": 189,
     "metadata": {},
     "output_type": "execute_result"
    }
   ],
   "source": [
    "negative_orders=df_orders.copy()\n",
    "negative_orders=df_orders.copy()\n",
    "negative_orders=df_orders.groupby(['CLIENT ID','ORDER ID','FRUIT_PRODUCT'])['NB PRODS'].sum()\n",
    "negative_orders=negative_orders.reset_index()\n",
    "negative_orders['NB PRODS'].unique()"
   ]
  },
  {
   "cell_type": "markdown",
   "id": "eee2d47a",
   "metadata": {},
   "source": [
    "presuponiendo que es un error durante el pedido, hemos restado por pedido y cliente el producto que en un principio puso en la cesta pero luego lo elimino total o parcialmente"
   ]
  },
  {
   "cell_type": "code",
   "execution_count": 190,
   "id": "10f984bb",
   "metadata": {
    "scrolled": true
   },
   "outputs": [
    {
     "data": {
      "text/plain": [
       "array([18489723, 18851598, 19147056, 19246696, 19275179, 19850202,\n",
       "       20563810, 20711202, 21742337, 21811811, 21912288, 24624295,\n",
       "       24681049, 24695092, 24790894, 24815973, 24850950, 24877844,\n",
       "       24985516, 25104970, 25283744, 25394668, 33615519, 35721925,\n",
       "       38487166, 42742047, 44756626, 45779975, 46885586], dtype=int64)"
      ]
     },
     "execution_count": 190,
     "metadata": {},
     "output_type": "execute_result"
    }
   ],
   "source": [
    "negative_orders.loc[negative_orders['NB PRODS']<0]['CLIENT ID'].unique()"
   ]
  },
  {
   "cell_type": "code",
   "execution_count": 191,
   "id": "b0531ad8",
   "metadata": {},
   "outputs": [
    {
     "data": {
      "text/html": [
       "<div>\n",
       "<style scoped>\n",
       "    .dataframe tbody tr th:only-of-type {\n",
       "        vertical-align: middle;\n",
       "    }\n",
       "\n",
       "    .dataframe tbody tr th {\n",
       "        vertical-align: top;\n",
       "    }\n",
       "\n",
       "    .dataframe thead th {\n",
       "        text-align: right;\n",
       "    }\n",
       "</style>\n",
       "<table border=\"1\" class=\"dataframe\">\n",
       "  <thead>\n",
       "    <tr style=\"text-align: right;\">\n",
       "      <th></th>\n",
       "      <th>CLIENT ID</th>\n",
       "      <th>ORDER ID</th>\n",
       "      <th>FRUIT_PRODUCT</th>\n",
       "      <th>NB PRODS</th>\n",
       "    </tr>\n",
       "  </thead>\n",
       "  <tbody>\n",
       "    <tr>\n",
       "      <th>3030</th>\n",
       "      <td>18489723</td>\n",
       "      <td>665673010</td>\n",
       "      <td>Coconut</td>\n",
       "      <td>-20</td>\n",
       "    </tr>\n",
       "  </tbody>\n",
       "</table>\n",
       "</div>"
      ],
      "text/plain": [
       "      CLIENT ID   ORDER ID FRUIT_PRODUCT  NB PRODS\n",
       "3030   18489723  665673010       Coconut       -20"
      ]
     },
     "execution_count": 191,
     "metadata": {},
     "output_type": "execute_result"
    }
   ],
   "source": [
    "negative_orders.loc[negative_orders['ORDER ID']==665673010]"
   ]
  },
  {
   "cell_type": "markdown",
   "id": "34d66df4",
   "metadata": {},
   "source": [
    "aun asi nos encontramos que hay pedidos con un balance negativo o que tienen un solo registro con el numero de productos negativo, como no pueden haber pedidos negativos los descartaremos"
   ]
  },
  {
   "cell_type": "code",
   "execution_count": 313,
   "id": "b8c238f6",
   "metadata": {},
   "outputs": [
    {
     "data": {
      "text/html": [
       "<div>\n",
       "<style scoped>\n",
       "    .dataframe tbody tr th:only-of-type {\n",
       "        vertical-align: middle;\n",
       "    }\n",
       "\n",
       "    .dataframe tbody tr th {\n",
       "        vertical-align: top;\n",
       "    }\n",
       "\n",
       "    .dataframe thead th {\n",
       "        text-align: right;\n",
       "    }\n",
       "</style>\n",
       "<table border=\"1\" class=\"dataframe\">\n",
       "  <thead>\n",
       "    <tr style=\"text-align: right;\">\n",
       "      <th></th>\n",
       "      <th>CLIENT ID</th>\n",
       "      <th>ORDER ID</th>\n",
       "      <th>FRUIT_PRODUCT</th>\n",
       "      <th>NB PRODS</th>\n",
       "    </tr>\n",
       "  </thead>\n",
       "  <tbody>\n",
       "    <tr>\n",
       "      <th>0</th>\n",
       "      <td>18070505</td>\n",
       "      <td>671907264</td>\n",
       "      <td>Apple</td>\n",
       "      <td>5</td>\n",
       "    </tr>\n",
       "    <tr>\n",
       "      <th>1</th>\n",
       "      <td>18070505</td>\n",
       "      <td>671907264</td>\n",
       "      <td>Cheery</td>\n",
       "      <td>5</td>\n",
       "    </tr>\n",
       "    <tr>\n",
       "      <th>2</th>\n",
       "      <td>18070505</td>\n",
       "      <td>671907264</td>\n",
       "      <td>Kiwi</td>\n",
       "      <td>5</td>\n",
       "    </tr>\n",
       "    <tr>\n",
       "      <th>3</th>\n",
       "      <td>18070505</td>\n",
       "      <td>671907264</td>\n",
       "      <td>Orange</td>\n",
       "      <td>10</td>\n",
       "    </tr>\n",
       "    <tr>\n",
       "      <th>4</th>\n",
       "      <td>18070505</td>\n",
       "      <td>671907264</td>\n",
       "      <td>Pear</td>\n",
       "      <td>10</td>\n",
       "    </tr>\n",
       "    <tr>\n",
       "      <th>...</th>\n",
       "      <td>...</td>\n",
       "      <td>...</td>\n",
       "      <td>...</td>\n",
       "      <td>...</td>\n",
       "    </tr>\n",
       "    <tr>\n",
       "      <th>65042</th>\n",
       "      <td>48352045</td>\n",
       "      <td>670065547</td>\n",
       "      <td>Watermelon</td>\n",
       "      <td>2</td>\n",
       "    </tr>\n",
       "    <tr>\n",
       "      <th>65043</th>\n",
       "      <td>48365750</td>\n",
       "      <td>670187349</td>\n",
       "      <td>Lemon</td>\n",
       "      <td>9</td>\n",
       "    </tr>\n",
       "    <tr>\n",
       "      <th>65044</th>\n",
       "      <td>48365750</td>\n",
       "      <td>670187349</td>\n",
       "      <td>Papaya</td>\n",
       "      <td>1</td>\n",
       "    </tr>\n",
       "    <tr>\n",
       "      <th>65045</th>\n",
       "      <td>48365861</td>\n",
       "      <td>668693229</td>\n",
       "      <td>Lemon</td>\n",
       "      <td>5</td>\n",
       "    </tr>\n",
       "    <tr>\n",
       "      <th>65046</th>\n",
       "      <td>48365861</td>\n",
       "      <td>668693229</td>\n",
       "      <td>Nectarine</td>\n",
       "      <td>10</td>\n",
       "    </tr>\n",
       "  </tbody>\n",
       "</table>\n",
       "<p>64945 rows × 4 columns</p>\n",
       "</div>"
      ],
      "text/plain": [
       "       CLIENT ID   ORDER ID FRUIT_PRODUCT  NB PRODS\n",
       "0       18070505  671907264         Apple         5\n",
       "1       18070505  671907264        Cheery         5\n",
       "2       18070505  671907264          Kiwi         5\n",
       "3       18070505  671907264        Orange        10\n",
       "4       18070505  671907264          Pear        10\n",
       "...          ...        ...           ...       ...\n",
       "65042   48352045  670065547    Watermelon         2\n",
       "65043   48365750  670187349         Lemon         9\n",
       "65044   48365750  670187349        Papaya         1\n",
       "65045   48365861  668693229         Lemon         5\n",
       "65046   48365861  668693229     Nectarine        10\n",
       "\n",
       "[64945 rows x 4 columns]"
      ]
     },
     "execution_count": 313,
     "metadata": {},
     "output_type": "execute_result"
    }
   ],
   "source": [
    "df_trim_orders= negative_orders.drop(negative_orders[negative_orders['NB PRODS']<0].index)\n",
    "df_trim_orders"
   ]
  },
  {
   "cell_type": "code",
   "execution_count": 195,
   "id": "84cd9577",
   "metadata": {},
   "outputs": [
    {
     "data": {
      "text/plain": [
       "<AxesSubplot:xlabel='NB PRODS'>"
      ]
     },
     "execution_count": 195,
     "metadata": {},
     "output_type": "execute_result"
    },
    {
     "data": {
      "image/png": "[encoded data removed]",
      "text/plain": [
       "<Figure size 720x432 with 1 Axes>"
      ]
     },
     "metadata": {
      "needs_background": "light"
     },
     "output_type": "display_data"
    }
   ],
   "source": [
    "plt.figure(figsize=(10,6))\n",
    "sns.boxplot(data=df_trim_orders, x=\"NB PRODS\")"
   ]
  },
  {
   "cell_type": "markdown",
   "id": "f71f2a36",
   "metadata": {},
   "source": [
    "Observamos presencia de outliers que distorsionan la tendencia del conjunto\n"
   ]
  },
  {
   "cell_type": "markdown",
   "id": "885d8ca7",
   "metadata": {},
   "source": [
    "**FRUIT_PRODUCT**"
   ]
  },
  {
   "cell_type": "markdown",
   "id": "635b1ad7",
   "metadata": {},
   "source": [
    "Es una variable categorica que contiene el tipo de fruta que el cliente ha comprado"
   ]
  },
  {
   "cell_type": "code",
   "execution_count": 196,
   "id": "73df69f2",
   "metadata": {},
   "outputs": [],
   "source": [
    "common_fruits=df_trim_orders['FRUIT_PRODUCT'].value_counts().reset_index().rename(columns={'index':'fruit_type','FRUIT_PRODUCT':'count'})\n",
    "common_fruits['total_pct']=round((common_fruits['count']/common_fruits['count'].sum())*100,2)"
   ]
  },
  {
   "cell_type": "code",
   "execution_count": 197,
   "id": "c400443a",
   "metadata": {
    "scrolled": true
   },
   "outputs": [
    {
     "data": {
      "text/html": [
       "<div>\n",
       "<style scoped>\n",
       "    .dataframe tbody tr th:only-of-type {\n",
       "        vertical-align: middle;\n",
       "    }\n",
       "\n",
       "    .dataframe tbody tr th {\n",
       "        vertical-align: top;\n",
       "    }\n",
       "\n",
       "    .dataframe thead th {\n",
       "        text-align: right;\n",
       "    }\n",
       "</style>\n",
       "<table border=\"1\" class=\"dataframe\">\n",
       "  <thead>\n",
       "    <tr style=\"text-align: right;\">\n",
       "      <th></th>\n",
       "      <th>fruit_type</th>\n",
       "      <th>count</th>\n",
       "      <th>total_pct</th>\n",
       "    </tr>\n",
       "  </thead>\n",
       "  <tbody>\n",
       "    <tr>\n",
       "      <th>0</th>\n",
       "      <td>Kiwi</td>\n",
       "      <td>6038</td>\n",
       "      <td>9.30</td>\n",
       "    </tr>\n",
       "    <tr>\n",
       "      <th>1</th>\n",
       "      <td>Orange</td>\n",
       "      <td>5469</td>\n",
       "      <td>8.42</td>\n",
       "    </tr>\n",
       "    <tr>\n",
       "      <th>2</th>\n",
       "      <td>Lemon</td>\n",
       "      <td>5116</td>\n",
       "      <td>7.88</td>\n",
       "    </tr>\n",
       "    <tr>\n",
       "      <th>3</th>\n",
       "      <td>Cheery</td>\n",
       "      <td>4046</td>\n",
       "      <td>6.23</td>\n",
       "    </tr>\n",
       "    <tr>\n",
       "      <th>4</th>\n",
       "      <td>Nuwe Fruit</td>\n",
       "      <td>3660</td>\n",
       "      <td>5.64</td>\n",
       "    </tr>\n",
       "    <tr>\n",
       "      <th>5</th>\n",
       "      <td>Pear</td>\n",
       "      <td>3659</td>\n",
       "      <td>5.63</td>\n",
       "    </tr>\n",
       "    <tr>\n",
       "      <th>6</th>\n",
       "      <td>Nectarine</td>\n",
       "      <td>3492</td>\n",
       "      <td>5.38</td>\n",
       "    </tr>\n",
       "    <tr>\n",
       "      <th>7</th>\n",
       "      <td>Banana</td>\n",
       "      <td>3385</td>\n",
       "      <td>5.21</td>\n",
       "    </tr>\n",
       "    <tr>\n",
       "      <th>8</th>\n",
       "      <td>Apple</td>\n",
       "      <td>3382</td>\n",
       "      <td>5.21</td>\n",
       "    </tr>\n",
       "    <tr>\n",
       "      <th>9</th>\n",
       "      <td>Grape</td>\n",
       "      <td>3090</td>\n",
       "      <td>4.76</td>\n",
       "    </tr>\n",
       "    <tr>\n",
       "      <th>10</th>\n",
       "      <td>Coconut</td>\n",
       "      <td>2400</td>\n",
       "      <td>3.70</td>\n",
       "    </tr>\n",
       "    <tr>\n",
       "      <th>11</th>\n",
       "      <td>Apricot</td>\n",
       "      <td>2251</td>\n",
       "      <td>3.47</td>\n",
       "    </tr>\n",
       "    <tr>\n",
       "      <th>12</th>\n",
       "      <td>Devil Fruit</td>\n",
       "      <td>2143</td>\n",
       "      <td>3.30</td>\n",
       "    </tr>\n",
       "    <tr>\n",
       "      <th>13</th>\n",
       "      <td>Papaya</td>\n",
       "      <td>1929</td>\n",
       "      <td>2.97</td>\n",
       "    </tr>\n",
       "    <tr>\n",
       "      <th>14</th>\n",
       "      <td>Mango</td>\n",
       "      <td>1816</td>\n",
       "      <td>2.80</td>\n",
       "    </tr>\n",
       "    <tr>\n",
       "      <th>15</th>\n",
       "      <td>Plum</td>\n",
       "      <td>1768</td>\n",
       "      <td>2.72</td>\n",
       "    </tr>\n",
       "    <tr>\n",
       "      <th>16</th>\n",
       "      <td>Blueberry</td>\n",
       "      <td>1681</td>\n",
       "      <td>2.59</td>\n",
       "    </tr>\n",
       "    <tr>\n",
       "      <th>17</th>\n",
       "      <td>Lime</td>\n",
       "      <td>1630</td>\n",
       "      <td>2.51</td>\n",
       "    </tr>\n",
       "    <tr>\n",
       "      <th>18</th>\n",
       "      <td>Strawberry</td>\n",
       "      <td>1624</td>\n",
       "      <td>2.50</td>\n",
       "    </tr>\n",
       "    <tr>\n",
       "      <th>19</th>\n",
       "      <td>Pomegranate</td>\n",
       "      <td>1601</td>\n",
       "      <td>2.47</td>\n",
       "    </tr>\n",
       "    <tr>\n",
       "      <th>20</th>\n",
       "      <td>Watermelon</td>\n",
       "      <td>1398</td>\n",
       "      <td>2.15</td>\n",
       "    </tr>\n",
       "    <tr>\n",
       "      <th>21</th>\n",
       "      <td>Melon</td>\n",
       "      <td>1321</td>\n",
       "      <td>2.03</td>\n",
       "    </tr>\n",
       "    <tr>\n",
       "      <th>22</th>\n",
       "      <td>Pineapple</td>\n",
       "      <td>1263</td>\n",
       "      <td>1.94</td>\n",
       "    </tr>\n",
       "    <tr>\n",
       "      <th>23</th>\n",
       "      <td>Jackfruit</td>\n",
       "      <td>783</td>\n",
       "      <td>1.21</td>\n",
       "    </tr>\n",
       "  </tbody>\n",
       "</table>\n",
       "</div>"
      ],
      "text/plain": [
       "     fruit_type  count  total_pct\n",
       "0          Kiwi   6038       9.30\n",
       "1        Orange   5469       8.42\n",
       "2         Lemon   5116       7.88\n",
       "3        Cheery   4046       6.23\n",
       "4    Nuwe Fruit   3660       5.64\n",
       "5          Pear   3659       5.63\n",
       "6     Nectarine   3492       5.38\n",
       "7        Banana   3385       5.21\n",
       "8         Apple   3382       5.21\n",
       "9         Grape   3090       4.76\n",
       "10      Coconut   2400       3.70\n",
       "11      Apricot   2251       3.47\n",
       "12  Devil Fruit   2143       3.30\n",
       "13       Papaya   1929       2.97\n",
       "14        Mango   1816       2.80\n",
       "15         Plum   1768       2.72\n",
       "16    Blueberry   1681       2.59\n",
       "17         Lime   1630       2.51\n",
       "18   Strawberry   1624       2.50\n",
       "19  Pomegranate   1601       2.47\n",
       "20   Watermelon   1398       2.15\n",
       "21        Melon   1321       2.03\n",
       "22    Pineapple   1263       1.94\n",
       "23    Jackfruit    783       1.21"
      ]
     },
     "execution_count": 197,
     "metadata": {},
     "output_type": "execute_result"
    }
   ],
   "source": [
    "common_fruits"
   ]
  },
  {
   "cell_type": "code",
   "execution_count": 198,
   "id": "c2c2d6ab",
   "metadata": {},
   "outputs": [
    {
     "data": {
      "image/png": "[encoded data removed]",
      "text/plain": [
       "<Figure size 1944x576 with 1 Axes>"
      ]
     },
     "metadata": {
      "needs_background": "light"
     },
     "output_type": "display_data"
    }
   ],
   "source": [
    "plt.figure(figsize=(27,8))\n",
    "ax = sns.barplot(x=\"fruit_type\", y=\"count\", data=common_fruits)"
   ]
  },
  {
   "cell_type": "code",
   "execution_count": 199,
   "id": "09bfdb9d",
   "metadata": {},
   "outputs": [
    {
     "data": {
      "image/png": "[encoded data removed]",
      "text/plain": [
       "<Figure size 864x576 with 1 Axes>"
      ]
     },
     "metadata": {},
     "output_type": "display_data"
    }
   ],
   "source": [
    "plt.figure(figsize=(12,8))\n",
    "colors = sns.color_palette('pastel')\n",
    "plt.pie(common_fruits['count'], labels = common_fruits['fruit_type'], colors = colors, autopct='%.02f%%')\n",
    "plt.show()"
   ]
  },
  {
   "cell_type": "markdown",
   "id": "3ae5ec47",
   "metadata": {},
   "source": [
    "Obsevamos que el nombre del producto que mas aparece en los registros es el kiwi que representa el 9% de las entradas y el que menos jackfruit con un 1%"
   ]
  },
  {
   "cell_type": "markdown",
   "id": "ac2635f9",
   "metadata": {},
   "source": [
    "### Analisis multivariable"
   ]
  },
  {
   "cell_type": "code",
   "execution_count": 314,
   "id": "c929c658",
   "metadata": {},
   "outputs": [],
   "source": [
    "fruit_group = df_trim_orders.groupby(['CLIENT ID'])['NB PRODS'].sum()\n",
    "fruit_group= fruit_group.reset_index()\n",
    "order_group = df_trim_orders.groupby('CLIENT ID')['ORDER ID'].count().rename('total orders')\n",
    "\n",
    "order_group=order_group.reset_index()\n",
    "\n",
    "order_group=pd.merge(order_group,fruit_group,on=\"CLIENT ID\")"
   ]
  },
  {
   "cell_type": "code",
   "execution_count": 315,
   "id": "603c7167",
   "metadata": {
    "scrolled": true
   },
   "outputs": [],
   "source": [
    "order_group=order_group.rename(columns={'NB PRODS':'total_product'})"
   ]
  },
  {
   "cell_type": "code",
   "execution_count": 316,
   "id": "f7ce859d",
   "metadata": {},
   "outputs": [
    {
     "data": {
      "text/html": [
       "<div>\n",
       "<style scoped>\n",
       "    .dataframe tbody tr th:only-of-type {\n",
       "        vertical-align: middle;\n",
       "    }\n",
       "\n",
       "    .dataframe tbody tr th {\n",
       "        vertical-align: top;\n",
       "    }\n",
       "\n",
       "    .dataframe thead th {\n",
       "        text-align: right;\n",
       "    }\n",
       "</style>\n",
       "<table border=\"1\" class=\"dataframe\">\n",
       "  <thead>\n",
       "    <tr style=\"text-align: right;\">\n",
       "      <th></th>\n",
       "      <th>CLIENT ID</th>\n",
       "      <th>ORDER ID</th>\n",
       "      <th>FRUIT_PRODUCT</th>\n",
       "      <th>NB PRODS</th>\n",
       "    </tr>\n",
       "  </thead>\n",
       "  <tbody>\n",
       "    <tr>\n",
       "      <th>0</th>\n",
       "      <td>18070505</td>\n",
       "      <td>671907264</td>\n",
       "      <td>Apple</td>\n",
       "      <td>5</td>\n",
       "    </tr>\n",
       "    <tr>\n",
       "      <th>1</th>\n",
       "      <td>18070505</td>\n",
       "      <td>671907264</td>\n",
       "      <td>Cheery</td>\n",
       "      <td>5</td>\n",
       "    </tr>\n",
       "    <tr>\n",
       "      <th>2</th>\n",
       "      <td>18070505</td>\n",
       "      <td>671907264</td>\n",
       "      <td>Kiwi</td>\n",
       "      <td>5</td>\n",
       "    </tr>\n",
       "    <tr>\n",
       "      <th>3</th>\n",
       "      <td>18070505</td>\n",
       "      <td>671907264</td>\n",
       "      <td>Orange</td>\n",
       "      <td>10</td>\n",
       "    </tr>\n",
       "    <tr>\n",
       "      <th>4</th>\n",
       "      <td>18070505</td>\n",
       "      <td>671907264</td>\n",
       "      <td>Pear</td>\n",
       "      <td>10</td>\n",
       "    </tr>\n",
       "    <tr>\n",
       "      <th>...</th>\n",
       "      <td>...</td>\n",
       "      <td>...</td>\n",
       "      <td>...</td>\n",
       "      <td>...</td>\n",
       "    </tr>\n",
       "    <tr>\n",
       "      <th>65042</th>\n",
       "      <td>48352045</td>\n",
       "      <td>670065547</td>\n",
       "      <td>Watermelon</td>\n",
       "      <td>2</td>\n",
       "    </tr>\n",
       "    <tr>\n",
       "      <th>65043</th>\n",
       "      <td>48365750</td>\n",
       "      <td>670187349</td>\n",
       "      <td>Lemon</td>\n",
       "      <td>9</td>\n",
       "    </tr>\n",
       "    <tr>\n",
       "      <th>65044</th>\n",
       "      <td>48365750</td>\n",
       "      <td>670187349</td>\n",
       "      <td>Papaya</td>\n",
       "      <td>1</td>\n",
       "    </tr>\n",
       "    <tr>\n",
       "      <th>65045</th>\n",
       "      <td>48365861</td>\n",
       "      <td>668693229</td>\n",
       "      <td>Lemon</td>\n",
       "      <td>5</td>\n",
       "    </tr>\n",
       "    <tr>\n",
       "      <th>65046</th>\n",
       "      <td>48365861</td>\n",
       "      <td>668693229</td>\n",
       "      <td>Nectarine</td>\n",
       "      <td>10</td>\n",
       "    </tr>\n",
       "  </tbody>\n",
       "</table>\n",
       "<p>64945 rows × 4 columns</p>\n",
       "</div>"
      ],
      "text/plain": [
       "       CLIENT ID   ORDER ID FRUIT_PRODUCT  NB PRODS\n",
       "0       18070505  671907264         Apple         5\n",
       "1       18070505  671907264        Cheery         5\n",
       "2       18070505  671907264          Kiwi         5\n",
       "3       18070505  671907264        Orange        10\n",
       "4       18070505  671907264          Pear        10\n",
       "...          ...        ...           ...       ...\n",
       "65042   48352045  670065547    Watermelon         2\n",
       "65043   48365750  670187349         Lemon         9\n",
       "65044   48365750  670187349        Papaya         1\n",
       "65045   48365861  668693229         Lemon         5\n",
       "65046   48365861  668693229     Nectarine        10\n",
       "\n",
       "[64945 rows x 4 columns]"
      ]
     },
     "execution_count": 316,
     "metadata": {},
     "output_type": "execute_result"
    }
   ],
   "source": [
    "df_trim_orders"
   ]
  },
  {
   "cell_type": "code",
   "execution_count": 317,
   "id": "6c083dab",
   "metadata": {},
   "outputs": [
    {
     "name": "stdout",
     "output_type": "stream",
     "text": [
      "upper total_product 47.5\n",
      "upper total orders 12.0\n"
     ]
    }
   ],
   "source": [
    "for x in ['total_product','total orders']:\n",
    "    lowerbound,upperbound = outlier_treatment(order_group[x])\n",
    "\n",
    "   \n",
    "    print(\"upper\",x,upperbound)\n",
    "    order_group.drop(order_group[ (order_group[x] > upperbound) ].index,inplace=True )\n",
    "\n",
    "    df_trim_orders= pd.merge(df_trim_orders,order_group,how='inner',on='CLIENT ID')\n",
    "\n",
    "   \n"
   ]
  },
  {
   "cell_type": "code",
   "execution_count": 318,
   "id": "9928f557",
   "metadata": {},
   "outputs": [],
   "source": [
    "df_trim_orders.drop(['total orders_y','total_product_y'],axis=1,inplace=True)"
   ]
  },
  {
   "cell_type": "code",
   "execution_count": 319,
   "id": "688ae426",
   "metadata": {},
   "outputs": [
    {
     "data": {
      "text/html": [
       "<div>\n",
       "<style scoped>\n",
       "    .dataframe tbody tr th:only-of-type {\n",
       "        vertical-align: middle;\n",
       "    }\n",
       "\n",
       "    .dataframe tbody tr th {\n",
       "        vertical-align: top;\n",
       "    }\n",
       "\n",
       "    .dataframe thead th {\n",
       "        text-align: right;\n",
       "    }\n",
       "</style>\n",
       "<table border=\"1\" class=\"dataframe\">\n",
       "  <thead>\n",
       "    <tr style=\"text-align: right;\">\n",
       "      <th></th>\n",
       "      <th>CLIENT ID</th>\n",
       "      <th>ORDER ID</th>\n",
       "      <th>FRUIT_PRODUCT</th>\n",
       "      <th>NB PRODS</th>\n",
       "      <th>total orders_x</th>\n",
       "      <th>total_product_x</th>\n",
       "    </tr>\n",
       "  </thead>\n",
       "  <tbody>\n",
       "    <tr>\n",
       "      <th>0</th>\n",
       "      <td>18070505</td>\n",
       "      <td>671907264</td>\n",
       "      <td>Apple</td>\n",
       "      <td>5</td>\n",
       "      <td>5</td>\n",
       "      <td>35</td>\n",
       "    </tr>\n",
       "    <tr>\n",
       "      <th>1</th>\n",
       "      <td>18070505</td>\n",
       "      <td>671907264</td>\n",
       "      <td>Cheery</td>\n",
       "      <td>5</td>\n",
       "      <td>5</td>\n",
       "      <td>35</td>\n",
       "    </tr>\n",
       "    <tr>\n",
       "      <th>2</th>\n",
       "      <td>18070505</td>\n",
       "      <td>671907264</td>\n",
       "      <td>Kiwi</td>\n",
       "      <td>5</td>\n",
       "      <td>5</td>\n",
       "      <td>35</td>\n",
       "    </tr>\n",
       "    <tr>\n",
       "      <th>3</th>\n",
       "      <td>18070505</td>\n",
       "      <td>671907264</td>\n",
       "      <td>Orange</td>\n",
       "      <td>10</td>\n",
       "      <td>5</td>\n",
       "      <td>35</td>\n",
       "    </tr>\n",
       "    <tr>\n",
       "      <th>4</th>\n",
       "      <td>18070505</td>\n",
       "      <td>671907264</td>\n",
       "      <td>Pear</td>\n",
       "      <td>10</td>\n",
       "      <td>5</td>\n",
       "      <td>35</td>\n",
       "    </tr>\n",
       "    <tr>\n",
       "      <th>...</th>\n",
       "      <td>...</td>\n",
       "      <td>...</td>\n",
       "      <td>...</td>\n",
       "      <td>...</td>\n",
       "      <td>...</td>\n",
       "      <td>...</td>\n",
       "    </tr>\n",
       "    <tr>\n",
       "      <th>55034</th>\n",
       "      <td>48352045</td>\n",
       "      <td>670065547</td>\n",
       "      <td>Watermelon</td>\n",
       "      <td>2</td>\n",
       "      <td>8</td>\n",
       "      <td>10</td>\n",
       "    </tr>\n",
       "    <tr>\n",
       "      <th>55035</th>\n",
       "      <td>48365750</td>\n",
       "      <td>670187349</td>\n",
       "      <td>Lemon</td>\n",
       "      <td>9</td>\n",
       "      <td>2</td>\n",
       "      <td>10</td>\n",
       "    </tr>\n",
       "    <tr>\n",
       "      <th>55036</th>\n",
       "      <td>48365750</td>\n",
       "      <td>670187349</td>\n",
       "      <td>Papaya</td>\n",
       "      <td>1</td>\n",
       "      <td>2</td>\n",
       "      <td>10</td>\n",
       "    </tr>\n",
       "    <tr>\n",
       "      <th>55037</th>\n",
       "      <td>48365861</td>\n",
       "      <td>668693229</td>\n",
       "      <td>Lemon</td>\n",
       "      <td>5</td>\n",
       "      <td>2</td>\n",
       "      <td>15</td>\n",
       "    </tr>\n",
       "    <tr>\n",
       "      <th>55038</th>\n",
       "      <td>48365861</td>\n",
       "      <td>668693229</td>\n",
       "      <td>Nectarine</td>\n",
       "      <td>10</td>\n",
       "      <td>2</td>\n",
       "      <td>15</td>\n",
       "    </tr>\n",
       "  </tbody>\n",
       "</table>\n",
       "<p>55039 rows × 6 columns</p>\n",
       "</div>"
      ],
      "text/plain": [
       "       CLIENT ID   ORDER ID FRUIT_PRODUCT  NB PRODS  total orders_x  \\\n",
       "0       18070505  671907264         Apple         5               5   \n",
       "1       18070505  671907264        Cheery         5               5   \n",
       "2       18070505  671907264          Kiwi         5               5   \n",
       "3       18070505  671907264        Orange        10               5   \n",
       "4       18070505  671907264          Pear        10               5   \n",
       "...          ...        ...           ...       ...             ...   \n",
       "55034   48352045  670065547    Watermelon         2               8   \n",
       "55035   48365750  670187349         Lemon         9               2   \n",
       "55036   48365750  670187349        Papaya         1               2   \n",
       "55037   48365861  668693229         Lemon         5               2   \n",
       "55038   48365861  668693229     Nectarine        10               2   \n",
       "\n",
       "       total_product_x  \n",
       "0                   35  \n",
       "1                   35  \n",
       "2                   35  \n",
       "3                   35  \n",
       "4                   35  \n",
       "...                ...  \n",
       "55034               10  \n",
       "55035               10  \n",
       "55036               10  \n",
       "55037               15  \n",
       "55038               15  \n",
       "\n",
       "[55039 rows x 6 columns]"
      ]
     },
     "execution_count": 319,
     "metadata": {},
     "output_type": "execute_result"
    }
   ],
   "source": [
    "df_trim_orders"
   ]
  },
  {
   "cell_type": "markdown",
   "id": "b17cc87d",
   "metadata": {},
   "source": [
    "*Cliente medio*"
   ]
  },
  {
   "cell_type": "code",
   "execution_count": 320,
   "id": "79671d3b",
   "metadata": {},
   "outputs": [],
   "source": [
    "avg_client=df_trim_orders.groupby(['CLIENT ID','total_product_x'])['ORDER ID'].count().reset_index().rename(columns={'ORDER ID':'total_orders'})\n"
   ]
  },
  {
   "cell_type": "code",
   "execution_count": 322,
   "id": "1d14ba0a",
   "metadata": {
    "scrolled": true
   },
   "outputs": [
    {
     "data": {
      "text/plain": [
       "<AxesSubplot:xlabel='total_product_x'>"
      ]
     },
     "execution_count": 322,
     "metadata": {},
     "output_type": "execute_result"
    },
    {
     "data": {
      "image/png": "[encoded data removed]",
      "text/plain": [
       "<Figure size 432x288 with 1 Axes>"
      ]
     },
     "metadata": {
      "needs_background": "light"
     },
     "output_type": "display_data"
    }
   ],
   "source": [
    "sns.boxplot(data=avg_client,x='total_product_x')"
   ]
  },
  {
   "cell_type": "code",
   "execution_count": 323,
   "id": "1e6e0fbf",
   "metadata": {},
   "outputs": [
    {
     "data": {
      "text/plain": [
       "<AxesSubplot:xlabel='total_orders'>"
      ]
     },
     "execution_count": 323,
     "metadata": {},
     "output_type": "execute_result"
    },
    {
     "data": {
      "image/png": "[encoded data removed]",
      "text/plain": [
       "<Figure size 432x288 with 1 Axes>"
      ]
     },
     "metadata": {
      "needs_background": "light"
     },
     "output_type": "display_data"
    }
   ],
   "source": [
    "sns.boxplot(data=avg_client,x='total_orders')"
   ]
  },
  {
   "cell_type": "markdown",
   "id": "0a7d1334",
   "metadata": {},
   "source": [
    "El cliente de media  compra 20 productos y realiza 4 ordenes"
   ]
  },
  {
   "cell_type": "markdown",
   "id": "c5e91a2a",
   "metadata": {},
   "source": [
    "*productos vendidos por tipo de fruta*"
   ]
  },
  {
   "cell_type": "code",
   "execution_count": 327,
   "id": "ea7dd91d",
   "metadata": {},
   "outputs": [],
   "source": [
    "df_orders_fruits =df_trim_orders.groupby(['FRUIT_PRODUCT'])['NB PRODS'].sum()"
   ]
  },
  {
   "cell_type": "code",
   "execution_count": 328,
   "id": "96a2671f",
   "metadata": {},
   "outputs": [
    {
     "data": {
      "text/plain": [
       "FRUIT_PRODUCT\n",
       "Apple           5556\n",
       "Apricot         8308\n",
       "Banana         14374\n",
       "Blueberry       3626\n",
       "Cheery         20384\n",
       "Coconut         9216\n",
       "Devil Fruit     4992\n",
       "Grape           5453\n",
       "Jackfruit       1919\n",
       "Kiwi           28549\n",
       "Lemon          26705\n",
       "Lime            5096\n",
       "Mango           4285\n",
       "Melon           2719\n",
       "Nectarine      15626\n",
       "Nuwe Fruit     16276\n",
       "Orange         26715\n",
       "Papaya          6925\n",
       "Pear           17692\n",
       "Pineapple       3140\n",
       "Plum            3136\n",
       "Pomegranate     4120\n",
       "Strawberry      5216\n",
       "Watermelon      3547\n",
       "Name: NB PRODS, dtype: int64"
      ]
     },
     "execution_count": 328,
     "metadata": {},
     "output_type": "execute_result"
    }
   ],
   "source": [
    "df_orders_fruits"
   ]
  },
  {
   "cell_type": "code",
   "execution_count": 335,
   "id": "aa7b0bae",
   "metadata": {},
   "outputs": [
    {
     "data": {
      "text/plain": [
       "Text(0.5, 1.0, 'Frutas menos vendias')"
      ]
     },
     "execution_count": 335,
     "metadata": {},
     "output_type": "execute_result"
    },
    {
     "data": {
      "image/png": "[encoded data removed]",
      "text/plain": [
       "<Figure size 864x720 with 2 Axes>"
      ]
     },
     "metadata": {
      "needs_background": "light"
     },
     "output_type": "display_data"
    }
   ],
   "source": [
    "fig, axes = plt.subplots(2, 1, figsize=(12, 10))\n",
    "sns.barplot(data=top_fruits,ax=axes[0],x='FRUIT_PRODUCT',y='NB PRODS').set_title('Frutas mas vendidas')\n",
    "sns.barplot(data=bottom_fruits,ax=axes[1],x='FRUIT_PRODUCT',y='NB PRODS').set_title('Frutas menos vendias')\n"
   ]
  },
  {
   "cell_type": "markdown",
   "id": "168de538",
   "metadata": {},
   "source": [
    "# Modelo predictivo "
   ]
  },
  {
   "cell_type": "code",
   "execution_count": 31,
   "id": "bd47584f",
   "metadata": {},
   "outputs": [
    {
     "data": {
      "text/html": [
       "<div>\n",
       "<style scoped>\n",
       "    .dataframe tbody tr th:only-of-type {\n",
       "        vertical-align: middle;\n",
       "    }\n",
       "\n",
       "    .dataframe tbody tr th {\n",
       "        vertical-align: top;\n",
       "    }\n",
       "\n",
       "    .dataframe thead th {\n",
       "        text-align: right;\n",
       "    }\n",
       "</style>\n",
       "<table border=\"1\" class=\"dataframe\">\n",
       "  <thead>\n",
       "    <tr style=\"text-align: right;\">\n",
       "      <th></th>\n",
       "      <th>CLIENT ID</th>\n",
       "      <th>CLIENT_SEGMENT</th>\n",
       "      <th>AVG CONSO</th>\n",
       "      <th>AVG BASKET SIZE</th>\n",
       "      <th>RECEIVED_COMMUNICATION</th>\n",
       "    </tr>\n",
       "  </thead>\n",
       "  <tbody>\n",
       "    <tr>\n",
       "      <th>0</th>\n",
       "      <td>24321771</td>\n",
       "      <td>6</td>\n",
       "      <td>67.25</td>\n",
       "      <td>201.75</td>\n",
       "      <td>0</td>\n",
       "    </tr>\n",
       "    <tr>\n",
       "      <th>1</th>\n",
       "      <td>24321859</td>\n",
       "      <td>2</td>\n",
       "      <td>58.33</td>\n",
       "      <td>350.00</td>\n",
       "      <td>0</td>\n",
       "    </tr>\n",
       "    <tr>\n",
       "      <th>2</th>\n",
       "      <td>24321880</td>\n",
       "      <td>3</td>\n",
       "      <td>46.67</td>\n",
       "      <td>112.00</td>\n",
       "      <td>0</td>\n",
       "    </tr>\n",
       "    <tr>\n",
       "      <th>4</th>\n",
       "      <td>24321962</td>\n",
       "      <td>4</td>\n",
       "      <td>10.00</td>\n",
       "      <td>120.00</td>\n",
       "      <td>0</td>\n",
       "    </tr>\n",
       "    <tr>\n",
       "      <th>5</th>\n",
       "      <td>24322000</td>\n",
       "      <td>5</td>\n",
       "      <td>9.17</td>\n",
       "      <td>110.00</td>\n",
       "      <td>0</td>\n",
       "    </tr>\n",
       "    <tr>\n",
       "      <th>...</th>\n",
       "      <td>...</td>\n",
       "      <td>...</td>\n",
       "      <td>...</td>\n",
       "      <td>...</td>\n",
       "      <td>...</td>\n",
       "    </tr>\n",
       "    <tr>\n",
       "      <th>35879</th>\n",
       "      <td>48345531</td>\n",
       "      <td>4</td>\n",
       "      <td>12.50</td>\n",
       "      <td>150.00</td>\n",
       "      <td>1</td>\n",
       "    </tr>\n",
       "    <tr>\n",
       "      <th>35880</th>\n",
       "      <td>48345686</td>\n",
       "      <td>3</td>\n",
       "      <td>37.50</td>\n",
       "      <td>112.50</td>\n",
       "      <td>1</td>\n",
       "    </tr>\n",
       "    <tr>\n",
       "      <th>35881</th>\n",
       "      <td>48365750</td>\n",
       "      <td>3</td>\n",
       "      <td>41.67</td>\n",
       "      <td>125.00</td>\n",
       "      <td>1</td>\n",
       "    </tr>\n",
       "    <tr>\n",
       "      <th>35882</th>\n",
       "      <td>48365861</td>\n",
       "      <td>3</td>\n",
       "      <td>62.58</td>\n",
       "      <td>125.17</td>\n",
       "      <td>1</td>\n",
       "    </tr>\n",
       "    <tr>\n",
       "      <th>35883</th>\n",
       "      <td>48365940</td>\n",
       "      <td>1</td>\n",
       "      <td>89.17</td>\n",
       "      <td>152.86</td>\n",
       "      <td>1</td>\n",
       "    </tr>\n",
       "  </tbody>\n",
       "</table>\n",
       "<p>32858 rows × 5 columns</p>\n",
       "</div>"
      ],
      "text/plain": [
       "       CLIENT ID  CLIENT_SEGMENT  AVG CONSO  AVG BASKET SIZE  \\\n",
       "0       24321771               6      67.25           201.75   \n",
       "1       24321859               2      58.33           350.00   \n",
       "2       24321880               3      46.67           112.00   \n",
       "4       24321962               4      10.00           120.00   \n",
       "5       24322000               5       9.17           110.00   \n",
       "...          ...             ...        ...              ...   \n",
       "35879   48345531               4      12.50           150.00   \n",
       "35880   48345686               3      37.50           112.50   \n",
       "35881   48365750               3      41.67           125.00   \n",
       "35882   48365861               3      62.58           125.17   \n",
       "35883   48365940               1      89.17           152.86   \n",
       "\n",
       "       RECEIVED_COMMUNICATION  \n",
       "0                           0  \n",
       "1                           0  \n",
       "2                           0  \n",
       "4                           0  \n",
       "5                           0  \n",
       "...                       ...  \n",
       "35879                       1  \n",
       "35880                       1  \n",
       "35881                       1  \n",
       "35882                       1  \n",
       "35883                       1  \n",
       "\n",
       "[32858 rows x 5 columns]"
      ]
     },
     "execution_count": 31,
     "metadata": {},
     "output_type": "execute_result"
    }
   ],
   "source": [
    "df_clients"
   ]
  },
  {
   "cell_type": "code",
   "execution_count": 45,
   "id": "fa820afb",
   "metadata": {},
   "outputs": [],
   "source": [
    "X=df_clients.drop(['CLIENT ID','CLIENT_SEGMENT'],axis=1)\n",
    "y=df_clients['CLIENT_SEGMENT']\n",
    "X_train, X_test, y_train, y_test = train_test_split(X, y, test_size=0.20)"
   ]
  },
  {
   "cell_type": "code",
   "execution_count": 46,
   "id": "a59ce8bf",
   "metadata": {},
   "outputs": [],
   "source": [
    "clf = RFC()\n",
    "clf.fit(X_train,y_train)\n",
    "y_pred = clf.predict(X_test)"
   ]
  },
  {
   "cell_type": "code",
   "execution_count": 49,
   "id": "443abfcb",
   "metadata": {},
   "outputs": [
    {
     "name": "stdout",
     "output_type": "stream",
     "text": [
      "0.7690200852099818\n"
     ]
    }
   ],
   "source": [
    "f1_score_svm= metrics.f1_score(y_test,y_pred,average='micro')\n",
    "print(f1_score_svm)"
   ]
  },
  {
   "cell_type": "code",
   "execution_count": 52,
   "id": "5f89c8da",
   "metadata": {},
   "outputs": [
    {
     "name": "stdout",
     "output_type": "stream",
     "text": [
      "[23:37:15] WARNING: C:\\Users\\Administrator\\workspace\\xgboost-win64_release_1.1.0\\src\\learner.cc:480: \n",
      "Parameters: { use_label_encoder } might not be used.\n",
      "\n",
      "  This may not be accurate due to some parameters are only used in language bindings but\n",
      "  passed down to XGBoost core.  Or some parameters are not used but slip through this\n",
      "  verification. Please open an issue if you find above cases.\n",
      "\n",
      "\n"
     ]
    }
   ],
   "source": [
    "xgb_class =xgb.XGBClassifier(eval_metric='mlogloss',use_label_encoder =False)\n",
    "xgb_class.fit(X_train,y_train)\n",
    "y_pred=xgb_class.predict(X_test)"
   ]
  },
  {
   "cell_type": "code",
   "execution_count": 54,
   "id": "d8cab7e2",
   "metadata": {},
   "outputs": [
    {
     "name": "stdout",
     "output_type": "stream",
     "text": [
      "0.7789105295191723\n"
     ]
    }
   ],
   "source": [
    "f1_score_xgb = metrics.f1_score(y_test,y_pred,average='micro')\n",
    "print(f1_score_xgb)"
   ]
  },
  {
   "cell_type": "code",
   "execution_count": 75,
   "id": "0dc72f33",
   "metadata": {},
   "outputs": [],
   "source": [
    "scaler = StandardScaler()"
   ]
  },
  {
   "cell_type": "code",
   "execution_count": 76,
   "id": "55ab0bb3",
   "metadata": {},
   "outputs": [],
   "source": [
    "Xs=scaler.fit_transform(X)"
   ]
  },
  {
   "cell_type": "code",
   "execution_count": 77,
   "id": "71a7b762",
   "metadata": {},
   "outputs": [
    {
     "name": "stdout",
     "output_type": "stream",
     "text": [
      "[23:47:29] WARNING: C:\\Users\\Administrator\\workspace\\xgboost-win64_release_1.1.0\\src\\learner.cc:480: \n",
      "Parameters: { use_label_encoder } might not be used.\n",
      "\n",
      "  This may not be accurate due to some parameters are only used in language bindings but\n",
      "  passed down to XGBoost core.  Or some parameters are not used but slip through this\n",
      "  verification. Please open an issue if you find above cases.\n",
      "\n",
      "\n"
     ]
    }
   ],
   "source": [
    "xgb_class =xgb.XGBClassifier(eval_metric='mlogloss',use_label_encoder =False)\n",
    "xgb_class.fit(X_train,y_train)\n",
    "y_pred=xgb_class.predict(X_test)"
   ]
  },
  {
   "cell_type": "code",
   "execution_count": 78,
   "id": "920412a7",
   "metadata": {
    "scrolled": true
   },
   "outputs": [
    {
     "name": "stdout",
     "output_type": "stream",
     "text": [
      "0.7789105295191723\n"
     ]
    }
   ],
   "source": [
    "f1_score_xgb = metrics.f1_score(y_test,y_pred,average='micro')\n",
    "print(f1_score_xgb)"
   ]
  },
  {
   "cell_type": "code",
   "execution_count": 87,
   "id": "e4fb3541",
   "metadata": {},
   "outputs": [],
   "source": [
    "df_test=pd.read_csv('mwc22-client_table+-+test_x.csv')\n",
    "df_test_pred=df_test.drop('CLIENT ID',axis=1)\n",
    "for atr in X.keys():\n",
    "    if df_test_pred.dtypes[atr]==np.object:\n",
    "        df_test_pred[atr].replace(',','.',inplace=True,regex=True)\n",
    "        df_test_pred[atr]=df_test_pred[atr].astype(float)"
   ]
  },
  {
   "cell_type": "code",
   "execution_count": 88,
   "id": "ff9f1e4c",
   "metadata": {},
   "outputs": [],
   "source": [
    "y_pred=xgb_class.predict(df_test_pred)"
   ]
  },
  {
   "cell_type": "code",
   "execution_count": 89,
   "id": "9c88f19a",
   "metadata": {},
   "outputs": [
    {
     "ename": "IndexError",
     "evalue": "only integers, slices (`:`), ellipsis (`...`), numpy.newaxis (`None`) and integer or boolean arrays are valid indices",
     "output_type": "error",
     "traceback": [
      "\u001b[1;31m---------------------------------------------------------------------------\u001b[0m",
      "\u001b[1;31mIndexError\u001b[0m                                Traceback (most recent call last)",
      "\u001b[1;32m~\\AppData\\Local\\Temp/ipykernel_12436/3816433962.py\u001b[0m in \u001b[0;36m<module>\u001b[1;34m\u001b[0m\n\u001b[1;32m----> 1\u001b[1;33m \u001b[0my_pred\u001b[0m\u001b[1;33m[\u001b[0m\u001b[1;34m'ClIENT ID'\u001b[0m\u001b[1;33m]\u001b[0m\u001b[1;33m=\u001b[0m\u001b[0mdf_test\u001b[0m\u001b[1;33m[\u001b[0m\u001b[1;34m'CLIENT ID'\u001b[0m\u001b[1;33m]\u001b[0m\u001b[1;33m\u001b[0m\u001b[1;33m\u001b[0m\u001b[0m\n\u001b[0m",
      "\u001b[1;31mIndexError\u001b[0m: only integers, slices (`:`), ellipsis (`...`), numpy.newaxis (`None`) and integer or boolean arrays are valid indices"
     ]
    }
   ],
   "source": [
    "y_pred['ClIENT ID']=df_test['CLIENT ID']"
   ]
  },
  {
   "cell_type": "code",
   "execution_count": 95,
   "id": "6cab5df7",
   "metadata": {},
   "outputs": [],
   "source": [
    "result=df_test['CLIENT ID']"
   ]
  },
  {
   "cell_type": "code",
   "execution_count": 99,
   "id": "29ced55e",
   "metadata": {},
   "outputs": [],
   "source": [
    "result['y_pred']=pd.DataFrame(y_pred)"
   ]
  },
  {
   "cell_type": "code",
   "execution_count": 101,
   "id": "dfd1c1a1",
   "metadata": {},
   "outputs": [],
   "source": [
    "result=pd.DataFrame(y_pred)"
   ]
  },
  {
   "cell_type": "code",
   "execution_count": 103,
   "id": "5c707643",
   "metadata": {},
   "outputs": [],
   "source": [
    "result['CLIENT ID']=df_test['CLIENT ID']"
   ]
  },
  {
   "cell_type": "code",
   "execution_count": 105,
   "id": "a1ce4ad7",
   "metadata": {},
   "outputs": [],
   "source": [
    "result=result[['CLIENT ID',0]]"
   ]
  },
  {
   "cell_type": "code",
   "execution_count": 106,
   "id": "629010c2",
   "metadata": {},
   "outputs": [
    {
     "data": {
      "text/html": [
       "<div>\n",
       "<style scoped>\n",
       "    .dataframe tbody tr th:only-of-type {\n",
       "        vertical-align: middle;\n",
       "    }\n",
       "\n",
       "    .dataframe tbody tr th {\n",
       "        vertical-align: top;\n",
       "    }\n",
       "\n",
       "    .dataframe thead th {\n",
       "        text-align: right;\n",
       "    }\n",
       "</style>\n",
       "<table border=\"1\" class=\"dataframe\">\n",
       "  <thead>\n",
       "    <tr style=\"text-align: right;\">\n",
       "      <th></th>\n",
       "      <th>CLIENT ID</th>\n",
       "      <th>CLIENT SEGMENT</th>\n",
       "    </tr>\n",
       "  </thead>\n",
       "  <tbody>\n",
       "    <tr>\n",
       "      <th>0</th>\n",
       "      <td>48352078</td>\n",
       "      <td>4</td>\n",
       "    </tr>\n",
       "    <tr>\n",
       "      <th>1</th>\n",
       "      <td>18072186</td>\n",
       "      <td>1</td>\n",
       "    </tr>\n",
       "    <tr>\n",
       "      <th>2</th>\n",
       "      <td>48352246</td>\n",
       "      <td>3</td>\n",
       "    </tr>\n",
       "    <tr>\n",
       "      <th>3</th>\n",
       "      <td>18070621</td>\n",
       "      <td>4</td>\n",
       "    </tr>\n",
       "    <tr>\n",
       "      <th>4</th>\n",
       "      <td>48352262</td>\n",
       "      <td>4</td>\n",
       "    </tr>\n",
       "    <tr>\n",
       "      <th>5</th>\n",
       "      <td>48359553</td>\n",
       "      <td>4</td>\n",
       "    </tr>\n",
       "    <tr>\n",
       "      <th>6</th>\n",
       "      <td>18071647</td>\n",
       "      <td>4</td>\n",
       "    </tr>\n",
       "    <tr>\n",
       "      <th>7</th>\n",
       "      <td>48359574</td>\n",
       "      <td>3</td>\n",
       "    </tr>\n",
       "    <tr>\n",
       "      <th>8</th>\n",
       "      <td>48359627</td>\n",
       "      <td>4</td>\n",
       "    </tr>\n",
       "    <tr>\n",
       "      <th>9</th>\n",
       "      <td>18070505</td>\n",
       "      <td>1</td>\n",
       "    </tr>\n",
       "    <tr>\n",
       "      <th>10</th>\n",
       "      <td>18071016</td>\n",
       "      <td>1</td>\n",
       "    </tr>\n",
       "    <tr>\n",
       "      <th>11</th>\n",
       "      <td>18071198</td>\n",
       "      <td>1</td>\n",
       "    </tr>\n",
       "    <tr>\n",
       "      <th>12</th>\n",
       "      <td>18071233</td>\n",
       "      <td>2</td>\n",
       "    </tr>\n",
       "    <tr>\n",
       "      <th>13</th>\n",
       "      <td>18071524</td>\n",
       "      <td>5</td>\n",
       "    </tr>\n",
       "    <tr>\n",
       "      <th>14</th>\n",
       "      <td>18071668</td>\n",
       "      <td>1</td>\n",
       "    </tr>\n",
       "    <tr>\n",
       "      <th>15</th>\n",
       "      <td>18072476</td>\n",
       "      <td>6</td>\n",
       "    </tr>\n",
       "    <tr>\n",
       "      <th>16</th>\n",
       "      <td>48352272</td>\n",
       "      <td>3</td>\n",
       "    </tr>\n",
       "    <tr>\n",
       "      <th>17</th>\n",
       "      <td>18072741</td>\n",
       "      <td>1</td>\n",
       "    </tr>\n",
       "    <tr>\n",
       "      <th>18</th>\n",
       "      <td>18072797</td>\n",
       "      <td>1</td>\n",
       "    </tr>\n",
       "  </tbody>\n",
       "</table>\n",
       "</div>"
      ],
      "text/plain": [
       "    CLIENT ID  CLIENT SEGMENT\n",
       "0    48352078               4\n",
       "1    18072186               1\n",
       "2    48352246               3\n",
       "3    18070621               4\n",
       "4    48352262               4\n",
       "5    48359553               4\n",
       "6    18071647               4\n",
       "7    48359574               3\n",
       "8    48359627               4\n",
       "9    18070505               1\n",
       "10   18071016               1\n",
       "11   18071198               1\n",
       "12   18071233               2\n",
       "13   18071524               5\n",
       "14   18071668               1\n",
       "15   18072476               6\n",
       "16   48352272               3\n",
       "17   18072741               1\n",
       "18   18072797               1"
      ]
     },
     "execution_count": 106,
     "metadata": {},
     "output_type": "execute_result"
    }
   ],
   "source": [
    "result.rename(columns={0:'CLIENT SEGMENT'})"
   ]
  },
  {
   "cell_type": "code",
   "execution_count": 107,
   "id": "b4cf80cc",
   "metadata": {},
   "outputs": [
    {
     "data": {
      "text/plain": [
       "',CLIENT ID,0\\r\\n0,48352078,4\\r\\n1,18072186,1\\r\\n2,48352246,3\\r\\n3,18070621,4\\r\\n4,48352262,4\\r\\n5,48359553,4\\r\\n6,18071647,4\\r\\n7,48359574,3\\r\\n8,48359627,4\\r\\n9,18070505,1\\r\\n10,18071016,1\\r\\n11,18071198,1\\r\\n12,18071233,2\\r\\n13,18071524,5\\r\\n14,18071668,1\\r\\n15,18072476,6\\r\\n16,48352272,3\\r\\n17,18072741,1\\r\\n18,18072797,1\\r\\n'"
      ]
     },
     "execution_count": 107,
     "metadata": {},
     "output_type": "execute_result"
    }
   ],
   "source": [
    "result.to_csv()"
   ]
  },
  {
   "cell_type": "code",
   "execution_count": null,
   "id": "cbbe1ef8",
   "metadata": {},
   "outputs": [],
   "source": []
  }
 ],
 "metadata": {
  "kernelspec": {
   "display_name": "Python 3 (ipykernel)",
   "language": "python",
   "name": "python3"
  },
  "language_info": {
   "codemirror_mode": {
    "name": "ipython",
    "version": 3
   },
   "file_extension": ".py",
   "mimetype": "text/x-python",
   "name": "python",
   "nbconvert_exporter": "python",
   "pygments_lexer": "ipython3",
   "version": "3.8.12"
  }
 },
 "nbformat": 4,
 "nbformat_minor": 5
}
